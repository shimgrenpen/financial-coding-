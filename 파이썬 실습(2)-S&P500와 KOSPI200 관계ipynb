{
 "cells": [
  {
   "cell_type": "markdown",
   "id": "fe864b92-4e4b-4403-9260-2bb378c58839",
   "metadata": {},
   "source": [
    "## 네이버에서 kospi200지수 수집하기 링크:http://finance.naver.com/sise/sise_index.nhn?code=KPI200 (pg.99~118)"
   ]
  },
  {
   "cell_type": "code",
   "execution_count": 33,
   "id": "c1415332-7ecc-4df7-a43d-34cbc41fe992",
   "metadata": {},
   "outputs": [],
   "source": [
    "#https://finance.naver.com/sise/sise_index_day.naver?code=KPI200: 네이버 일별시세의 주소창\n",
    "#https://finance.naver.com/sise/sise_index_day.naver?code=KPI200&page=744: 일별시세의 주소창에서 가장 끝 페이지 (2024-01-20일 기준)\n",
    "index_cd='KPI200'\n",
    "page_n=1\n",
    "naver_index='https://finance.naver.com/sise/sise_index_day.naver?code='+index_cd+'&page='+str(page_n)"
   ]
  },
  {
   "cell_type": "code",
   "execution_count": 34,
   "id": "f4f18ee2-c365-4132-b3fd-08efb62e3795",
   "metadata": {
    "collapsed": true,
    "jupyter": {
     "outputs_hidden": true
    },
    "tags": []
   },
   "outputs": [
    {
     "data": {
      "text/plain": [
       "b'<html lang=\"ko\">\\n<head>\\n<meta http-equiv=\"Content-Type\" content=\"text/html; charset=euc-kr\">\\n<title>\\xb3\\xd7\\xc0\\xcc\\xb9\\xf6\\xc6\\xe4\\xc0\\xcc \\xc1\\xf5\\xb1\\xc7</title>\\n\\n<link rel=\"stylesheet\" type=\"text/css\" href=\"https://ssl.pstatic.net/imgstock/static.pc/20240124162200/css/newstock.css\">\\n<link rel=\"stylesheet\" type=\"text/css\" href=\"https://ssl.pstatic.net/imgstock/static.pc/20240124162200/css/common.css\">\\n<link rel=\"stylesheet\" type=\"text/css\" href=\"https://ssl.pstatic.net/imgstock/static.pc/20240124162200/css/layout.css\">\\n<link rel=\"stylesheet\" type=\"text/css\" href=\"https://ssl.pstatic.net/imgstock/static.pc/20240124162200/css/main.css\">\\n<link rel=\"stylesheet\" type=\"text/css\" href=\"https://ssl.pstatic.net/imgstock/static.pc/20240124162200/css/newstock2.css\">\\n<link rel=\"stylesheet\" type=\"text/css\" href=\"https://ssl.pstatic.net/imgstock/static.pc/20240124162200/css/newstock3.css\">\\n<link rel=\"stylesheet\" type=\"text/css\" href=\"https://ssl.pstatic.net/imgstock/static.pc/20240124162200/css/world.css\">\\n</head>\\n<body>\\n<script type=\"text/javascript\" src=\"https://ssl.pstatic.net/imgstock/static.pc/20240124162200/js/jindo.min.ns.1.5.3.euckr.js\"></script>\\n<script type=\"text/javascript\" src=\"https://ssl.pstatic.net/imgstock/static.pc/20240124162200/js/lcslog.js\"></script>\\n\\t\\t\\t\\t<!-- \\xc0\\xcf\\xba\\xb0\\xbd\\xc3\\xbc\\xbc -->\\n\\t\\t\\t\\t<div class=\"box_type_m\">\\n\\t\\t\\t\\t\\t<h4 class=\"top_tlt\" style=\"text-align:left;\"><em>\\xc0\\xcf\\xba\\xb0</em>\\xbd\\xc3\\xbc\\xbc</h4>\\n\\t\\t\\t\\t\\t<table summary=\"\\xc0\\xcf\\xba\\xb0 \\xbd\\xc3\\xbc\\xbc\\xc7\\xa5:\\xb3\\xaf\\xc2\\xa5\\xbf\\xa1 \\xb5\\xfb\\xb8\\xa5 \\xc3\\xbc\\xb0\\xe1\\xb0\\xa1 \\xc0\\xfc\\xc0\\xcf\\xba\\xf1 \\xb5\\xee\\xb6\\xf4\\xb7\\xfc \\xb0\\xc5\\xb7\\xa1\\xb7\\xae \\xb0\\xc5\\xb7\\xa1\\xb4\\xeb\\xb1\\xdd \\xc1\\xa4\\xba\\xb8\\xb8\\xa6 \\xc1\\xa6\\xb0\\xf8\\xc7\\xd5\\xb4\\xcf\\xb4\\xd9.\" cellpadding=\"0\" cellspacing=\"0\" class=\"type_1\">\\n\\t\\t\\t\\t\\t<caption>\\xc0\\xcf\\xba\\xb0\\xbd\\xc3\\xbc\\xbc</caption>\\n\\t\\t\\t\\t\\t<col width=\"15%\"><col width=\"14%\"><col width=\"18%\"><col width=\"14%\"><col width=\"*\"><col width=\"18%\">\\n\\t\\t\\t\\t\\t\\n\\t\\t\\t\\t\\t\\t\\n\\t\\t\\t\\t\\t\\t\\n\\t\\t\\t\\t\\t\\t<tr>\\n\\t\\t\\t\\t\\t\\t\\t<th>\\xb3\\xaf\\xc2\\xa5</th>\\n\\t\\t\\t\\t\\t\\t\\t<th>\\xc3\\xbc\\xb0\\xe1\\xb0\\xa1</th>\\n\\t\\t\\t\\t\\t\\t\\t<th>\\xc0\\xfc\\xc0\\xcf\\xba\\xf1</th>\\n\\t\\t\\t\\t\\t\\t\\t<th>\\xb5\\xee\\xb6\\xf4\\xb7\\xfc</th>\\n\\t\\t\\t\\t\\t\\t\\t<th>\\xb0\\xc5\\xb7\\xa1\\xb7\\xae<span class=\"add_txt\">(\\xc3\\xb5\\xc1\\xd6)</span></th>\\n\\t\\t\\t\\t\\t\\t\\t<th>\\xb0\\xc5\\xb7\\xa1\\xb4\\xeb\\xb1\\xdd<span class=\"add_txt\">(\\xb9\\xe9\\xb8\\xb8)</span></th>\\n\\t\\t\\t\\t\\t\\t</tr>\\n\\t\\t\\t\\t\\t\\t\\n\\t\\t\\t\\t\\t\\t\\t\\t\\t\\t\\n\\t\\t\\t\\t\\t<tr><td colspan=\"6\" class=\"blank_07\"></td></tr>\\n\\n\\t\\n\\t\\t\\t\\t\\t<tr>\\n\\t\\t\\t\\t\\t\\t<td class=\"date\">2024.01.30</td>\\n\\t\\t\\t\\t\\t\\t<td class=\"number_1\">337.83</td>\\n\\t\\t\\t\\t\\t\\t<td class=\"rate_down\" style=\"padding-right:35px;\">\\n\\t\\t\\t\\t<img src=\"https://ssl.pstatic.net/imgstock/images/images4/ico_down.gif\" width=\"7\" height=\"6\" style=\"margin-right:4px;\" alt=\"\\xc7\\xcf\\xb6\\xf4\"><span class=\"tah p11 nv01\">\\n\\t\\t\\t\\t0.01\\n\\t\\t\\t\\t</span>\\n\\t\\t\\t</td>\\n\\t\\t\\t\\t\\t\\t<td class=\"number_1\">\\n\\t\\t\\t\\t<span class=\"tah p11 nv01\">\\n\\t\\t\\t\\t-0.00%\\n\\t\\t\\t\\t</span>\\n\\t\\t\\t</td>\\n\\t\\t\\t\\t\\t\\t<td class=\"number_1\" style=\"padding-right:40px;\">77,631</td>\\n\\t\\t\\t\\t\\t\\t<td class=\"number_1\" style=\"padding-right:30px;\">4,056,989</td>\\n\\t\\t\\t\\t\\t</tr>\\n\\t\\t\\n\\t\\t\\t\\n\\t\\t\\t\\t\\n\\t\\t\\t\\t\\t<tr>\\n\\t\\t\\t\\t\\t\\t<td class=\"date\">2024.01.29</td>\\n\\t\\t\\t\\t\\t\\t<td class=\"number_1\">337.84</td>\\n\\t\\t\\t\\t\\t\\t<td class=\"rate_down\" style=\"padding-right:35px;\">\\n\\t\\t\\t\\t<img src=\"https://ssl.pstatic.net/imgstock/images/images4/ico_up.gif\" width=\"7\" height=\"6\" style=\"margin-right:4px;\" alt=\"\\xbb\\xf3\\xbd\\xc2\"><span class=\"tah p11 red02\">\\n\\t\\t\\t\\t3.63\\n\\t\\t\\t\\t</span>\\n\\t\\t\\t</td>\\n\\t\\t\\t\\t\\t\\t<td class=\"number_1\">\\n\\t\\t\\t\\t<span class=\"tah p11 red01\">\\n\\t\\t\\t\\t+1.09%\\n\\t\\t\\t\\t</span>\\n\\t\\t\\t</td>\\n\\t\\t\\t\\t\\t\\t<td class=\"number_1\" style=\"padding-right:40px;\">114,357</td>\\n\\t\\t\\t\\t\\t\\t<td class=\"number_1\" style=\"padding-right:30px;\">6,649,546</td>\\n\\t\\t\\t\\t\\t</tr>\\n\\t\\t\\t\\t\\n\\t\\t\\t\\t\\n\\t\\t\\t\\n\\t\\t\\t\\n\\t\\t\\t\\n\\t\\t\\t\\n\\t\\t\\t\\t\\n\\t\\t\\t\\n\\t\\t\\t\\n\\t\\t\\n\\t\\t\\t\\n\\t\\t\\t\\t\\n\\t\\t\\t\\t\\t<tr>\\n\\t\\t\\t\\t\\t\\t<td class=\"date\">2024.01.26</td>\\n\\t\\t\\t\\t\\t\\t<td class=\"number_1\">334.21</td>\\n\\t\\t\\t\\t\\t\\t<td class=\"rate_down\" style=\"padding-right:35px;\">\\n\\t\\t\\t\\t<img src=\"https://ssl.pstatic.net/imgstock/images/images4/ico_up.gif\" width=\"7\" height=\"6\" style=\"margin-right:4px;\" alt=\"\\xbb\\xf3\\xbd\\xc2\"><span class=\"tah p11 red02\">\\n\\t\\t\\t\\t0.41\\n\\t\\t\\t\\t</span>\\n\\t\\t\\t</td>\\n\\t\\t\\t\\t\\t\\t<td class=\"number_1\">\\n\\t\\t\\t\\t<span class=\"tah p11 red01\">\\n\\t\\t\\t\\t+0.12%\\n\\t\\t\\t\\t</span>\\n\\t\\t\\t</td>\\n\\t\\t\\t\\t\\t\\t<td class=\"number_1\" style=\"padding-right:40px;\">86,543</td>\\n\\t\\t\\t\\t\\t\\t<td class=\"number_1\" style=\"padding-right:30px;\">5,279,004</td>\\n\\t\\t\\t\\t\\t</tr>\\n\\t\\t\\t\\t\\n\\t\\t\\t\\t\\n\\t\\t\\t\\n\\t\\t\\t\\n\\t\\t\\t\\n\\t\\t\\t\\n\\t\\t\\t\\t\\n\\t\\t\\t\\t\\t<tr><td colspan=\"6\" class=\"blank_08\"></td></tr>\\n\\t\\t\\t\\t\\t<tr><td colspan=\"6\" class=\"division_line\"></td></tr>\\n\\t\\t\\t\\t\\t<tr><td colspan=\"6\" class=\"blank_08\"></td></tr>\\n\\t\\t\\t\\t\\t<tr>\\n\\t\\t\\t\\t\\n\\t\\t\\t\\n\\t\\t\\t\\n\\t\\t\\n\\t\\t\\t\\n\\t\\t\\t\\t\\n\\t\\t\\t\\t\\t<tr>\\n\\t\\t\\t\\t\\t\\t<td class=\"date\">2024.01.25</td>\\n\\t\\t\\t\\t\\t\\t<td class=\"number_1\">333.80</td>\\n\\t\\t\\t\\t\\t\\t<td class=\"rate_down\" style=\"padding-right:35px;\">\\n\\t\\t\\t\\t<img src=\"https://ssl.pstatic.net/imgstock/images/images4/ico_up.gif\" width=\"7\" height=\"6\" style=\"margin-right:4px;\" alt=\"\\xbb\\xf3\\xbd\\xc2\"><span class=\"tah p11 red02\">\\n\\t\\t\\t\\t0.53\\n\\t\\t\\t\\t</span>\\n\\t\\t\\t</td>\\n\\t\\t\\t\\t\\t\\t<td class=\"number_1\">\\n\\t\\t\\t\\t<span class=\"tah p11 red01\">\\n\\t\\t\\t\\t+0.16%\\n\\t\\t\\t\\t</span>\\n\\t\\t\\t</td>\\n\\t\\t\\t\\t\\t\\t<td class=\"number_1\" style=\"padding-right:40px;\">101,107</td>\\n\\t\\t\\t\\t\\t\\t<td class=\"number_1\" style=\"padding-right:30px;\">5,982,910</td>\\n\\t\\t\\t\\t\\t</tr>\\n\\t\\t\\t\\t\\n\\t\\t\\t\\t\\n\\t\\t\\t\\n\\t\\t\\t\\n\\t\\t\\t\\n\\t\\t\\t\\n\\t\\t\\t\\t\\n\\t\\t\\t\\n\\t\\t\\t\\n\\t\\t\\n\\t\\t\\t\\n\\t\\t\\t\\t\\n\\t\\t\\t\\t\\t<tr>\\n\\t\\t\\t\\t\\t\\t<td class=\"date\">2024.01.24</td>\\n\\t\\t\\t\\t\\t\\t<td class=\"number_1\">333.27</td>\\n\\t\\t\\t\\t\\t\\t<td class=\"rate_down\" style=\"padding-right:35px;\">\\n\\t\\t\\t\\t<img src=\"https://ssl.pstatic.net/imgstock/images/images4/ico_down.gif\" width=\"7\" height=\"6\" style=\"margin-right:4px;\" alt=\"\\xc7\\xcf\\xb6\\xf4\"><span class=\"tah p11 nv01\">\\n\\t\\t\\t\\t1.70\\n\\t\\t\\t\\t</span>\\n\\t\\t\\t</td>\\n\\t\\t\\t\\t\\t\\t<td class=\"number_1\">\\n\\t\\t\\t\\t<span class=\"tah p11 nv01\">\\n\\t\\t\\t\\t-0.51%\\n\\t\\t\\t\\t</span>\\n\\t\\t\\t</td>\\n\\t\\t\\t\\t\\t\\t<td class=\"number_1\" style=\"padding-right:40px;\">100,934</td>\\n\\t\\t\\t\\t\\t\\t<td class=\"number_1\" style=\"padding-right:30px;\">5,121,258</td>\\n\\t\\t\\t\\t\\t</tr>\\n\\t\\t\\t\\t\\n\\t\\t\\t\\t\\n\\t\\t\\t\\n\\t\\t\\t\\n\\t\\t\\t\\n\\t\\t\\t\\n\\t\\t\\t\\t\\n\\t\\t\\t\\n\\t\\t\\t\\n\\t\\t\\n\\t\\t\\t\\n\\t\\t\\t\\t\\n\\t\\t\\t\\t\\t<tr>\\n\\t\\t\\t\\t\\t\\t<td class=\"date\">2024.01.23</td>\\n\\t\\t\\t\\t\\t\\t<td class=\"number_1\">334.97</td>\\n\\t\\t\\t\\t\\t\\t<td class=\"rate_down\" style=\"padding-right:35px;\">\\n\\t\\t\\t\\t<img src=\"https://ssl.pstatic.net/imgstock/images/images4/ico_up.gif\" width=\"7\" height=\"6\" style=\"margin-right:4px;\" alt=\"\\xbb\\xf3\\xbd\\xc2\"><span class=\"tah p11 red02\">\\n\\t\\t\\t\\t2.34\\n\\t\\t\\t\\t</span>\\n\\t\\t\\t</td>\\n\\t\\t\\t\\t\\t\\t<td class=\"number_1\">\\n\\t\\t\\t\\t<span class=\"tah p11 red01\">\\n\\t\\t\\t\\t+0.70%\\n\\t\\t\\t\\t</span>\\n\\t\\t\\t</td>\\n\\t\\t\\t\\t\\t\\t<td class=\"number_1\" style=\"padding-right:40px;\">95,068</td>\\n\\t\\t\\t\\t\\t\\t<td class=\"number_1\" style=\"padding-right:30px;\">5,396,094</td>\\n\\t\\t\\t\\t\\t</tr>\\n\\t\\t\\t\\t\\n\\t\\t\\t\\t\\n\\t\\t\\t\\n\\t\\t\\t\\n\\t\\t\\t\\n\\t\\t\\t\\n\\t\\t\\t\\t\\n\\t\\t\\t\\n\\t\\t\\t\\n\\t\\t\\n\\t\\t\\t\\n\\t\\n\\t\\n\\t\\n\\t\\n\\n\\t\\t\\t\\t\\t<tr><td colspan=\"6\" class=\"blank_09\"></td></tr>\\n\\t\\t\\t\\t\\t<tr><td colspan=\"6\" class=\"division_line\"></td></tr>\\n\\t\\t\\t\\t\\t</table>\\n\\t\\t\\t\\t<!--- \\xc6\\xe4\\xc0\\xcc\\xc1\\xf6 \\xb3\\xd7\\xba\\xf1\\xb0\\xd4\\xc0\\xcc\\xbc\\xc7 \\xbd\\xc3\\xc0\\xdb--->\\n\\t\\t\\t\\t<table summary=\"\\xc6\\xe4\\xc0\\xcc\\xc1\\xf6 \\xb3\\xd7\\xba\\xf1\\xb0\\xd4\\xc0\\xcc\\xbc\\xc7 \\xb8\\xae\\xbd\\xba\\xc6\\xae\" class=\"Nnavi\" align=\"center\">\\n\\t\\t\\t\\t<caption>\\xc6\\xe4\\xc0\\xcc\\xc1\\xf6 \\xb3\\xd7\\xba\\xf1\\xb0\\xd4\\xc0\\xcc\\xbc\\xc7</caption>\\n\\t\\t\\t\\t<tr>\\t\\t\\n\\t\\t\\t\\n\\t\\t\\t\\t\\n                \\n                <td class=\"on\">\\n\\t\\t\\t\\t<a href=\"/sise/sise_index_day.naver?code=KPI200&amp;page=1\"  >1</a>\\n\\t\\t\\t\\t</td>\\n<td>\\n\\t\\t\\t\\t<a href=\"/sise/sise_index_day.naver?code=KPI200&amp;page=2\"  >2</a>\\n\\t\\t\\t\\t</td>\\n<td>\\n\\t\\t\\t\\t<a href=\"/sise/sise_index_day.naver?code=KPI200&amp;page=3\"  >3</a>\\n\\t\\t\\t\\t</td>\\n<td>\\n\\t\\t\\t\\t<a href=\"/sise/sise_index_day.naver?code=KPI200&amp;page=4\"  >4</a>\\n\\t\\t\\t\\t</td>\\n<td>\\n\\t\\t\\t\\t<a href=\"/sise/sise_index_day.naver?code=KPI200&amp;page=5\"  >5</a>\\n\\t\\t\\t\\t</td>\\n<td>\\n\\t\\t\\t\\t<a href=\"/sise/sise_index_day.naver?code=KPI200&amp;page=6\"  >6</a>\\n\\t\\t\\t\\t</td>\\n<td>\\n\\t\\t\\t\\t<a href=\"/sise/sise_index_day.naver?code=KPI200&amp;page=7\"  >7</a>\\n\\t\\t\\t\\t</td>\\n<td>\\n\\t\\t\\t\\t<a href=\"/sise/sise_index_day.naver?code=KPI200&amp;page=8\"  >8</a>\\n\\t\\t\\t\\t</td>\\n<td>\\n\\t\\t\\t\\t<a href=\"/sise/sise_index_day.naver?code=KPI200&amp;page=9\"  >9</a>\\n\\t\\t\\t\\t</td>\\n<td>\\n\\t\\t\\t\\t<a href=\"/sise/sise_index_day.naver?code=KPI200&amp;page=10\"  >10</a>\\n\\t\\t\\t\\t</td>\\n\\n                <td class=\"pgR\">\\n\\t\\t\\t\\t<a href=\"/sise/sise_index_day.naver?code=KPI200&amp;page=11\"  >\\n\\t\\t\\t\\t\\xb4\\xd9\\xc0\\xbd<img src=\"https://ssl.pstatic.net/static/n/cmn/bu_pgarR.gif\" width=\"3\" height=\"5\" alt=\"\" border=\"0\">\\n\\t\\t\\t\\t</a>\\n\\t\\t\\t\\t</td>\\n\\n                <td class=\"pgRR\">\\n\\t\\t\\t\\t<a href=\"/sise/sise_index_day.naver?code=KPI200&amp;page=745\"  >\\xb8\\xc7\\xb5\\xda\\n\\t\\t\\t\\t<img src=\"https://ssl.pstatic.net/static/n/cmn/bu_pgarRR.gif\" width=\"8\" height=\"5\" alt=\"\" border=\"0\">\\n\\t\\t\\t\\t</a>\\n\\t\\t\\t\\t</td>\\n\\n            \\n\\t\\t\\t\\t</tr>\\n\\t\\t\\t\\t</table>\\n\\t\\t\\t\\t<!--- \\xc6\\xe4\\xc0\\xcc\\xc1\\xf6 \\xb3\\xd7\\xba\\xf1\\xb0\\xd4\\xc0\\xcc\\xbc\\xc7 \\xb3\\xa1--->\\n\\t\\t\\t\\t</div>\\n\\t\\t\\t\\t<!-- //\\xc0\\xcf\\xba\\xb0\\xbd\\xc3\\xbc\\xbc -->\\n\\t\\t\\t\\t\\n<script type=\"text/javascript\">\\n    ;(function(){\\n        var eventType = \"onpageshow\" in window ? \"pageshow\" : \"load\";\\n        jindo.$Fn(function(){\\n            lcs_do();\\n        }).attach(window, eventType);\\n    })();\\n</script>\\n\\n</body>\\n</html>\\n'"
      ]
     },
     "execution_count": 34,
     "metadata": {},
     "output_type": "execute_result"
    }
   ],
   "source": [
    "from urllib.request import urlopen\n",
    "source=urlopen(naver_index).read()\n",
    "source"
   ]
  },
  {
   "cell_type": "code",
   "execution_count": 35,
   "id": "eb335bfa-cc11-46d7-8495-7d131d34243d",
   "metadata": {},
   "outputs": [],
   "source": [
    "import bs4\n",
    "source=bs4.BeautifulSoup(source,'lxml')"
   ]
  },
  {
   "cell_type": "code",
   "execution_count": 36,
   "id": "67fc1f17-cc10-4897-b9ff-501a357b14c3",
   "metadata": {
    "collapsed": true,
    "jupyter": {
     "outputs_hidden": true
    },
    "tags": []
   },
   "outputs": [
    {
     "name": "stdout",
     "output_type": "stream",
     "text": [
      "<html lang=\"ko\">\n",
      " <head>\n",
      "  <meta content=\"text/html; charset=utf-8\" http-equiv=\"Content-Type\"/>\n",
      "  <title>\n",
      "   네이버페이 증권\n",
      "  </title>\n",
      "  <link href=\"https://ssl.pstatic.net/imgstock/static.pc/20240124162200/css/newstock.css\" rel=\"stylesheet\" type=\"text/css\"/>\n",
      "  <link href=\"https://ssl.pstatic.net/imgstock/static.pc/20240124162200/css/common.css\" rel=\"stylesheet\" type=\"text/css\"/>\n",
      "  <link href=\"https://ssl.pstatic.net/imgstock/static.pc/20240124162200/css/layout.css\" rel=\"stylesheet\" type=\"text/css\"/>\n",
      "  <link href=\"https://ssl.pstatic.net/imgstock/static.pc/20240124162200/css/main.css\" rel=\"stylesheet\" type=\"text/css\"/>\n",
      "  <link href=\"https://ssl.pstatic.net/imgstock/static.pc/20240124162200/css/newstock2.css\" rel=\"stylesheet\" type=\"text/css\"/>\n",
      "  <link href=\"https://ssl.pstatic.net/imgstock/static.pc/20240124162200/css/newstock3.css\" rel=\"stylesheet\" type=\"text/css\"/>\n",
      "  <link href=\"https://ssl.pstatic.net/imgstock/static.pc/20240124162200/css/world.css\" rel=\"stylesheet\" type=\"text/css\"/>\n",
      " </head>\n",
      " <body>\n",
      "  <script src=\"https://ssl.pstatic.net/imgstock/static.pc/20240124162200/js/jindo.min.ns.1.5.3.euckr.js\" type=\"text/javascript\">\n",
      "  </script>\n",
      "  <script src=\"https://ssl.pstatic.net/imgstock/static.pc/20240124162200/js/lcslog.js\" type=\"text/javascript\">\n",
      "  </script>\n",
      "  <!-- 일별시세 -->\n",
      "  <div class=\"box_type_m\">\n",
      "   <h4 class=\"top_tlt\" style=\"text-align:left;\">\n",
      "    <em>\n",
      "     일별\n",
      "    </em>\n",
      "    시세\n",
      "   </h4>\n",
      "   <table cellpadding=\"0\" cellspacing=\"0\" class=\"type_1\" summary=\"일별 시세표:날짜에 따른 체결가 전일비 등락률 거래량 거래대금 정보를 제공합니다.\">\n",
      "    <caption>\n",
      "     일별시세\n",
      "    </caption>\n",
      "    <col width=\"15%\"/>\n",
      "    <col width=\"14%\"/>\n",
      "    <col width=\"18%\"/>\n",
      "    <col width=\"14%\"/>\n",
      "    <col width=\"*\"/>\n",
      "    <col width=\"18%\"/>\n",
      "    <tr>\n",
      "     <th>\n",
      "      날짜\n",
      "     </th>\n",
      "     <th>\n",
      "      체결가\n",
      "     </th>\n",
      "     <th>\n",
      "      전일비\n",
      "     </th>\n",
      "     <th>\n",
      "      등락률\n",
      "     </th>\n",
      "     <th>\n",
      "      거래량\n",
      "      <span class=\"add_txt\">\n",
      "       (천주)\n",
      "      </span>\n",
      "     </th>\n",
      "     <th>\n",
      "      거래대금\n",
      "      <span class=\"add_txt\">\n",
      "       (백만)\n",
      "      </span>\n",
      "     </th>\n",
      "    </tr>\n",
      "    <tr>\n",
      "     <td class=\"blank_07\" colspan=\"6\">\n",
      "     </td>\n",
      "    </tr>\n",
      "    <tr>\n",
      "     <td class=\"date\">\n",
      "      2024.01.30\n",
      "     </td>\n",
      "     <td class=\"number_1\">\n",
      "      337.83\n",
      "     </td>\n",
      "     <td class=\"rate_down\" style=\"padding-right:35px;\">\n",
      "      <img alt=\"하락\" height=\"6\" src=\"https://ssl.pstatic.net/imgstock/images/images4/ico_down.gif\" style=\"margin-right:4px;\" width=\"7\"/>\n",
      "      <span class=\"tah p11 nv01\">\n",
      "       0.01\n",
      "      </span>\n",
      "     </td>\n",
      "     <td class=\"number_1\">\n",
      "      <span class=\"tah p11 nv01\">\n",
      "       -0.00%\n",
      "      </span>\n",
      "     </td>\n",
      "     <td class=\"number_1\" style=\"padding-right:40px;\">\n",
      "      77,631\n",
      "     </td>\n",
      "     <td class=\"number_1\" style=\"padding-right:30px;\">\n",
      "      4,056,989\n",
      "     </td>\n",
      "    </tr>\n",
      "    <tr>\n",
      "     <td class=\"date\">\n",
      "      2024.01.29\n",
      "     </td>\n",
      "     <td class=\"number_1\">\n",
      "      337.84\n",
      "     </td>\n",
      "     <td class=\"rate_down\" style=\"padding-right:35px;\">\n",
      "      <img alt=\"상승\" height=\"6\" src=\"https://ssl.pstatic.net/imgstock/images/images4/ico_up.gif\" style=\"margin-right:4px;\" width=\"7\"/>\n",
      "      <span class=\"tah p11 red02\">\n",
      "       3.63\n",
      "      </span>\n",
      "     </td>\n",
      "     <td class=\"number_1\">\n",
      "      <span class=\"tah p11 red01\">\n",
      "       +1.09%\n",
      "      </span>\n",
      "     </td>\n",
      "     <td class=\"number_1\" style=\"padding-right:40px;\">\n",
      "      114,357\n",
      "     </td>\n",
      "     <td class=\"number_1\" style=\"padding-right:30px;\">\n",
      "      6,649,546\n",
      "     </td>\n",
      "    </tr>\n",
      "    <tr>\n",
      "     <td class=\"date\">\n",
      "      2024.01.26\n",
      "     </td>\n",
      "     <td class=\"number_1\">\n",
      "      334.21\n",
      "     </td>\n",
      "     <td class=\"rate_down\" style=\"padding-right:35px;\">\n",
      "      <img alt=\"상승\" height=\"6\" src=\"https://ssl.pstatic.net/imgstock/images/images4/ico_up.gif\" style=\"margin-right:4px;\" width=\"7\"/>\n",
      "      <span class=\"tah p11 red02\">\n",
      "       0.41\n",
      "      </span>\n",
      "     </td>\n",
      "     <td class=\"number_1\">\n",
      "      <span class=\"tah p11 red01\">\n",
      "       +0.12%\n",
      "      </span>\n",
      "     </td>\n",
      "     <td class=\"number_1\" style=\"padding-right:40px;\">\n",
      "      86,543\n",
      "     </td>\n",
      "     <td class=\"number_1\" style=\"padding-right:30px;\">\n",
      "      5,279,004\n",
      "     </td>\n",
      "    </tr>\n",
      "    <tr>\n",
      "     <td class=\"blank_08\" colspan=\"6\">\n",
      "     </td>\n",
      "    </tr>\n",
      "    <tr>\n",
      "     <td class=\"division_line\" colspan=\"6\">\n",
      "     </td>\n",
      "    </tr>\n",
      "    <tr>\n",
      "     <td class=\"blank_08\" colspan=\"6\">\n",
      "     </td>\n",
      "    </tr>\n",
      "    <tr>\n",
      "    </tr>\n",
      "    <tr>\n",
      "     <td class=\"date\">\n",
      "      2024.01.25\n",
      "     </td>\n",
      "     <td class=\"number_1\">\n",
      "      333.80\n",
      "     </td>\n",
      "     <td class=\"rate_down\" style=\"padding-right:35px;\">\n",
      "      <img alt=\"상승\" height=\"6\" src=\"https://ssl.pstatic.net/imgstock/images/images4/ico_up.gif\" style=\"margin-right:4px;\" width=\"7\"/>\n",
      "      <span class=\"tah p11 red02\">\n",
      "       0.53\n",
      "      </span>\n",
      "     </td>\n",
      "     <td class=\"number_1\">\n",
      "      <span class=\"tah p11 red01\">\n",
      "       +0.16%\n",
      "      </span>\n",
      "     </td>\n",
      "     <td class=\"number_1\" style=\"padding-right:40px;\">\n",
      "      101,107\n",
      "     </td>\n",
      "     <td class=\"number_1\" style=\"padding-right:30px;\">\n",
      "      5,982,910\n",
      "     </td>\n",
      "    </tr>\n",
      "    <tr>\n",
      "     <td class=\"date\">\n",
      "      2024.01.24\n",
      "     </td>\n",
      "     <td class=\"number_1\">\n",
      "      333.27\n",
      "     </td>\n",
      "     <td class=\"rate_down\" style=\"padding-right:35px;\">\n",
      "      <img alt=\"하락\" height=\"6\" src=\"https://ssl.pstatic.net/imgstock/images/images4/ico_down.gif\" style=\"margin-right:4px;\" width=\"7\"/>\n",
      "      <span class=\"tah p11 nv01\">\n",
      "       1.70\n",
      "      </span>\n",
      "     </td>\n",
      "     <td class=\"number_1\">\n",
      "      <span class=\"tah p11 nv01\">\n",
      "       -0.51%\n",
      "      </span>\n",
      "     </td>\n",
      "     <td class=\"number_1\" style=\"padding-right:40px;\">\n",
      "      100,934\n",
      "     </td>\n",
      "     <td class=\"number_1\" style=\"padding-right:30px;\">\n",
      "      5,121,258\n",
      "     </td>\n",
      "    </tr>\n",
      "    <tr>\n",
      "     <td class=\"date\">\n",
      "      2024.01.23\n",
      "     </td>\n",
      "     <td class=\"number_1\">\n",
      "      334.97\n",
      "     </td>\n",
      "     <td class=\"rate_down\" style=\"padding-right:35px;\">\n",
      "      <img alt=\"상승\" height=\"6\" src=\"https://ssl.pstatic.net/imgstock/images/images4/ico_up.gif\" style=\"margin-right:4px;\" width=\"7\"/>\n",
      "      <span class=\"tah p11 red02\">\n",
      "       2.34\n",
      "      </span>\n",
      "     </td>\n",
      "     <td class=\"number_1\">\n",
      "      <span class=\"tah p11 red01\">\n",
      "       +0.70%\n",
      "      </span>\n",
      "     </td>\n",
      "     <td class=\"number_1\" style=\"padding-right:40px;\">\n",
      "      95,068\n",
      "     </td>\n",
      "     <td class=\"number_1\" style=\"padding-right:30px;\">\n",
      "      5,396,094\n",
      "     </td>\n",
      "    </tr>\n",
      "    <tr>\n",
      "     <td class=\"blank_09\" colspan=\"6\">\n",
      "     </td>\n",
      "    </tr>\n",
      "    <tr>\n",
      "     <td class=\"division_line\" colspan=\"6\">\n",
      "     </td>\n",
      "    </tr>\n",
      "   </table>\n",
      "   <!--- 페이지 네비게이션 시작--->\n",
      "   <table align=\"center\" class=\"Nnavi\" summary=\"페이지 네비게이션 리스트\">\n",
      "    <caption>\n",
      "     페이지 네비게이션\n",
      "    </caption>\n",
      "    <tr>\n",
      "     <td class=\"on\">\n",
      "      <a href=\"/sise/sise_index_day.naver?code=KPI200&amp;page=1\">\n",
      "       1\n",
      "      </a>\n",
      "     </td>\n",
      "     <td>\n",
      "      <a href=\"/sise/sise_index_day.naver?code=KPI200&amp;page=2\">\n",
      "       2\n",
      "      </a>\n",
      "     </td>\n",
      "     <td>\n",
      "      <a href=\"/sise/sise_index_day.naver?code=KPI200&amp;page=3\">\n",
      "       3\n",
      "      </a>\n",
      "     </td>\n",
      "     <td>\n",
      "      <a href=\"/sise/sise_index_day.naver?code=KPI200&amp;page=4\">\n",
      "       4\n",
      "      </a>\n",
      "     </td>\n",
      "     <td>\n",
      "      <a href=\"/sise/sise_index_day.naver?code=KPI200&amp;page=5\">\n",
      "       5\n",
      "      </a>\n",
      "     </td>\n",
      "     <td>\n",
      "      <a href=\"/sise/sise_index_day.naver?code=KPI200&amp;page=6\">\n",
      "       6\n",
      "      </a>\n",
      "     </td>\n",
      "     <td>\n",
      "      <a href=\"/sise/sise_index_day.naver?code=KPI200&amp;page=7\">\n",
      "       7\n",
      "      </a>\n",
      "     </td>\n",
      "     <td>\n",
      "      <a href=\"/sise/sise_index_day.naver?code=KPI200&amp;page=8\">\n",
      "       8\n",
      "      </a>\n",
      "     </td>\n",
      "     <td>\n",
      "      <a href=\"/sise/sise_index_day.naver?code=KPI200&amp;page=9\">\n",
      "       9\n",
      "      </a>\n",
      "     </td>\n",
      "     <td>\n",
      "      <a href=\"/sise/sise_index_day.naver?code=KPI200&amp;page=10\">\n",
      "       10\n",
      "      </a>\n",
      "     </td>\n",
      "     <td class=\"pgR\">\n",
      "      <a href=\"/sise/sise_index_day.naver?code=KPI200&amp;page=11\">\n",
      "       다음\n",
      "       <img alt=\"\" border=\"0\" height=\"5\" src=\"https://ssl.pstatic.net/static/n/cmn/bu_pgarR.gif\" width=\"3\"/>\n",
      "      </a>\n",
      "     </td>\n",
      "     <td class=\"pgRR\">\n",
      "      <a href=\"/sise/sise_index_day.naver?code=KPI200&amp;page=745\">\n",
      "       맨뒤\n",
      "       <img alt=\"\" border=\"0\" height=\"5\" src=\"https://ssl.pstatic.net/static/n/cmn/bu_pgarRR.gif\" width=\"8\"/>\n",
      "      </a>\n",
      "     </td>\n",
      "    </tr>\n",
      "   </table>\n",
      "   <!--- 페이지 네비게이션 끝--->\n",
      "  </div>\n",
      "  <!-- //일별시세 -->\n",
      "  <script type=\"text/javascript\">\n",
      "   ;(function(){\n",
      "        var eventType = \"onpageshow\" in window ? \"pageshow\" : \"load\";\n",
      "        jindo.$Fn(function(){\n",
      "            lcs_do();\n",
      "        }).attach(window, eventType);\n",
      "    })();\n",
      "  </script>\n",
      " </body>\n",
      "</html>\n",
      "\n"
     ]
    }
   ],
   "source": [
    "print(source.prettify())"
   ]
  },
  {
   "cell_type": "code",
   "execution_count": 37,
   "id": "50024c06-3115-4a70-9768-6b113b888c18",
   "metadata": {},
   "outputs": [
    {
     "data": {
      "text/plain": [
       "54"
      ]
     },
     "execution_count": 37,
     "metadata": {},
     "output_type": "execute_result"
    }
   ],
   "source": [
    "td = source.find_all('td')\n",
    "len(td)"
   ]
  },
  {
   "cell_type": "code",
   "execution_count": 38,
   "id": "63724314-760b-4cd2-9a80-d098e554a52e",
   "metadata": {},
   "outputs": [
    {
     "data": {
      "text/plain": [
       "<td class=\"date\">2024.01.30</td>"
      ]
     },
     "execution_count": 38,
     "metadata": {},
     "output_type": "execute_result"
    }
   ],
   "source": [
    "#/html/body/div/table[1]/tbody/tr[3]/td[1]: 복사한 XPath\n",
    "source.find_all('table')[0].find_all('tr')[2].find_all('td')[0] #파이썬은 숫자를 0부터 세기 때문에 XPath 수에서 -1을 해줘야 한다."
   ]
  },
  {
   "cell_type": "code",
   "execution_count": 39,
   "id": "a21eaa8a-df06-465e-bf06-9764daa16886",
   "metadata": {},
   "outputs": [
    {
     "data": {
      "text/plain": [
       "'2024.01.30'"
      ]
     },
     "execution_count": 39,
     "metadata": {},
     "output_type": "execute_result"
    }
   ],
   "source": [
    "d=source.find_all('td',class_='date')[0].text\n",
    "d"
   ]
  },
  {
   "cell_type": "code",
   "execution_count": 40,
   "id": "1293bf9c-1ae8-4342-b280-612f6b828c84",
   "metadata": {},
   "outputs": [],
   "source": [
    "#날짜 인식하기 위한 datetime 라이브러리\n",
    "import datetime as dt"
   ]
  },
  {
   "cell_type": "code",
   "execution_count": 41,
   "id": "e05beb8e-cf1b-492e-9d56-e77dfa6ad514",
   "metadata": {},
   "outputs": [
    {
     "data": {
      "text/plain": [
       "datetime.date(2024, 1, 30)"
      ]
     },
     "execution_count": 41,
     "metadata": {},
     "output_type": "execute_result"
    }
   ],
   "source": [
    "yyyy=int(d.split('.')[0]) #문자열.split(구분자)로 문자열을 년, 월, 일로 나눈다.\n",
    "mm=int(d.split('.')[1])\n",
    "dd=int(d.split('.')[2])\n",
    "this_date=dt.date(yyyy,mm,dd)\n",
    "this_date"
   ]
  },
  {
   "cell_type": "code",
   "execution_count": 42,
   "id": "c31b0ce4-eeae-46f8-87dd-39e89b722d53",
   "metadata": {},
   "outputs": [],
   "source": [
    "#날짜 형식으로 바꾸는 함수 정의\n",
    "def date_format(d):\n",
    "    d=str(d).replace('-','.') #날짜 구분자가 .이 아닌 -으로 되어 있는 경우, .으로 변환해주는 기능을 한다.\n",
    "    yyyy=int(d.split('.')[0])\n",
    "    mm=int(d.split('.')[1])\n",
    "    dd=int(d.split('.')[2])\n",
    "    \n",
    "    this_date=dt.date(yyyy,mm,dd)\n",
    "    return this_date"
   ]
  },
  {
   "cell_type": "code",
   "execution_count": 43,
   "id": "cc745f03-7a58-4ee7-b4ee-973441006a27",
   "metadata": {},
   "outputs": [
    {
     "data": {
      "text/plain": [
       "337.83"
      ]
     },
     "execution_count": 43,
     "metadata": {},
     "output_type": "execute_result"
    }
   ],
   "source": [
    "#종가지수를 가져오는 방법 pg.110 XPath: /html/body/div/table[1]/tbody/tr[3]/td[2]\n",
    "this_close=source.find_all('tr')[2].find_all('td')[1].text\n",
    "this_close=this_close.replace(',','')\n",
    "this_close=float(this_close)\n",
    "this_close"
   ]
  },
  {
   "cell_type": "code",
   "execution_count": 44,
   "id": "6a456c37-85f5-4b1e-befb-3d077501e952",
   "metadata": {},
   "outputs": [
    {
     "data": {
      "text/plain": [
       "'337.83'"
      ]
     },
     "execution_count": 44,
     "metadata": {},
     "output_type": "execute_result"
    }
   ],
   "source": [
    "p = source.find_all('td',class_='number_1')[0].text\n",
    "p"
   ]
  },
  {
   "cell_type": "code",
   "execution_count": 45,
   "id": "af4fe46e-e620-4355-8748-a53dccabda7d",
   "metadata": {},
   "outputs": [],
   "source": [
    "dates = source.find_all('td',class_='date')\n",
    "prices = source.find_all('td',class_='number_1')"
   ]
  },
  {
   "cell_type": "code",
   "execution_count": 46,
   "id": "49e95bb1-b787-49c2-9f67-37c220f4335f",
   "metadata": {},
   "outputs": [
    {
     "data": {
      "text/plain": [
       "6"
      ]
     },
     "execution_count": 46,
     "metadata": {},
     "output_type": "execute_result"
    }
   ],
   "source": [
    "len(dates)"
   ]
  },
  {
   "cell_type": "code",
   "execution_count": 47,
   "id": "058c9c76-ba2f-417f-8f28-a7faddc71325",
   "metadata": {},
   "outputs": [
    {
     "data": {
      "text/plain": [
       "24"
      ]
     },
     "execution_count": 47,
     "metadata": {},
     "output_type": "execute_result"
    }
   ],
   "source": [
    "len(prices) #td class_=\"number_1\" 코드가 4개가 있다. "
   ]
  },
  {
   "cell_type": "code",
   "execution_count": 48,
   "id": "3c9d6a70-cb17-4e75-8ea1-29d983b291de",
   "metadata": {},
   "outputs": [
    {
     "name": "stdout",
     "output_type": "stream",
     "text": [
      "2024-01-30 337.83\n",
      "2024-01-29 337.84\n",
      "2024-01-26 334.21\n",
      "2024-01-25 333.8\n",
      "2024-01-24 333.27\n",
      "2024-01-23 334.97\n"
     ]
    }
   ],
   "source": [
    "for n in range(len(dates)): #dates 개수만큼 반복\n",
    "    this_date=dates[n].text #n번째 dates 값 추출\n",
    "    this_date=date_format(this_date) #날짜 형식으로 변환\n",
    "    \n",
    "    this_close=prices[n*4].text #0,4,8,....등 4의 배수에 해당하는 종가지수 추출\n",
    "    this_close=this_close.replace(',',' ') # 쉼표(,)제거\n",
    "    this_close=float(this_close) #숫자 형식으로 변환\n",
    "    this_close\n",
    "    print(this_date, this_close) #결과값 추출"
   ]
  },
  {
   "cell_type": "code",
   "execution_count": 49,
   "id": "97e517cb-9808-45de-a4b5-6c034d6f1172",
   "metadata": {},
   "outputs": [
    {
     "data": {
      "text/plain": [
       "'/sise/sise_index_day.naver?code=KPI200&page=745'"
      ]
     },
     "execution_count": 49,
     "metadata": {},
     "output_type": "execute_result"
    }
   ],
   "source": [
    "# 마지막 페이지 주소 Xpath: /html/body/div/table[2]/tbody/tr/td[12]/a\n",
    "paging = source.find('td',class_='pgRR').find('a')['href']\n",
    "paging"
   ]
  },
  {
   "cell_type": "code",
   "execution_count": 50,
   "id": "20d36198-6461-4042-9d02-3d9981eb8118",
   "metadata": {},
   "outputs": [
    {
     "data": {
      "text/plain": [
       "'page=745'"
      ]
     },
     "execution_count": 50,
     "metadata": {},
     "output_type": "execute_result"
    }
   ],
   "source": [
    "paging = paging.split('&')[1]\n",
    "paging "
   ]
  },
  {
   "cell_type": "code",
   "execution_count": 51,
   "id": "873b0e81-4363-4f42-b86e-447c0caae6e1",
   "metadata": {},
   "outputs": [
    {
     "data": {
      "text/plain": [
       "'745'"
      ]
     },
     "execution_count": 51,
     "metadata": {},
     "output_type": "execute_result"
    }
   ],
   "source": [
    "paging = paging.split('=')[1]\n",
    "paging"
   ]
  },
  {
   "cell_type": "code",
   "execution_count": 52,
   "id": "a8ed10c3-d349-4b1b-bdac-4aae164807cf",
   "metadata": {},
   "outputs": [],
   "source": [
    "#페이지 번호 int변수로 처리하기\n",
    "last_page=source.find('td',class_='pgRR').find('a')['href']\n",
    "last_page = last_page.split('&')[1]\n",
    "last_page = last_page.split('=')[1]\n",
    "last_page = int(last_page)"
   ]
  },
  {
   "cell_type": "code",
   "execution_count": 53,
   "id": "c6668e30-0704-46d3-8126-a0d5360715f0",
   "metadata": {},
   "outputs": [
    {
     "data": {
      "text/plain": [
       "745"
      ]
     },
     "execution_count": 53,
     "metadata": {},
     "output_type": "execute_result"
    }
   ],
   "source": [
    "last_page"
   ]
  },
  {
   "cell_type": "code",
   "execution_count": 54,
   "id": "967ea355-04ba-468b-a373-2292e78b096d",
   "metadata": {},
   "outputs": [],
   "source": [
    "#데이터 추출 기능을 함수로 만들기\n",
    "def historical_index_naver(index_cd, start_date='',end_date='', page_n=1, last_page=0):\n",
    "    \n",
    "    #start_date 설정\n",
    "    if start_date: #start_date가 있으면\n",
    "        start_date = date_format(start_date)\n",
    "    else: #start_date가 없으면\n",
    "        start_date = dt.date.today()\n",
    "    \n",
    "    #end_date 설정\n",
    "    if end_date:\n",
    "        end_date = date_format(end_date)\n",
    "    else:\n",
    "        end_date=dt.date.today()\n",
    "        \n",
    "        \n",
    "    naver_index = 'http://finance.naver.com/sise/sise_index_day.nhn?code=' + index_cd +'&page=' + str(page_n)\n",
    "    \n",
    "    source = urlopen(naver_index).read() #지정한 페이지에서 코드 읽기\n",
    "    source = bs4.BeautifulSoup(source, 'lxml') #뷰티플 수프로 태그별로 코드 분류\n",
    "    \n",
    "    dates = source.find_all('td',class_='date') # <td class=\"date\">태그에서 날짜 수집\n",
    "    prices = source.find_all('td', class_='number_1') # <td class=\"number_1\"> 태그에서 지수 수집 \n",
    "    \n",
    "    for n in range(len(dates)):\n",
    "        \n",
    "        if dates[n].text.split('.')[0].isdigit():\n",
    "            \n",
    "            #날짜 처리 \n",
    "            this_date = dates[n].text\n",
    "            this_date = date_format(this_date)\n",
    "            \n",
    "            if this_date <= end_date and this_date >= start_date:\n",
    "            #start_date와 end_date 사이에서 데이터 저장\n",
    "                #종가 처리 \n",
    "                this_close = prices[n*4].text #prices 중 종기지수인 0,4,8....번째 데이터 추출\n",
    "                this_close = this_close.replace(',','')\n",
    "                this_close = float(this_close)\n",
    "                \n",
    "                #딕셔너리에 저장\n",
    "                historical_prices[this_date]= this_close\n",
    "                \n",
    "            elif this_date < start_date:\n",
    "            # start_date 이전이면 함수 종료\n",
    "                return historical_prices\n",
    "            \n",
    "    #페이지 내비게이션\n",
    "    if last_page == 0: \n",
    "        last_page=source.find('td',class_='pgRR').find('a')['href'] #마지막 페이지 주소 추출\n",
    "        last_page = last_page.split('&')[1] #& 뒤의 page=744 부분추출\n",
    "        last_page = last_page.split('=')[1] #'=' 뒤의 페이지 번호만 추출\n",
    "        last_page = int(last_page) #숫자형 변수로 전환\n",
    "            \n",
    "    #다음 페이지 호출 \n",
    "    if page_n < last_page:\n",
    "        page_n = page_n + 1\n",
    "        historical_index_naver(index_cd,start_date,end_date,page_n, last_page)\n",
    "        \n",
    "        return historical_prices\n",
    "    "
   ]
  },
  {
   "cell_type": "code",
   "execution_count": 55,
   "id": "8d893298-8bbc-4c6b-9097-97c5eaee5d2c",
   "metadata": {},
   "outputs": [
    {
     "data": {
      "text/plain": [
       "{datetime.date(2018, 4, 4): 308.54,\n",
       " datetime.date(2018, 4, 3): 313.38,\n",
       " datetime.date(2018, 4, 2): 314.0}"
      ]
     },
     "execution_count": 55,
     "metadata": {},
     "output_type": "execute_result"
    }
   ],
   "source": [
    "index_cd='KPI200'\n",
    "historical_prices = dict()\n",
    "historical_index_naver(index_cd,'2018-4-1','2018-4-4')\n",
    "historical_prices"
   ]
  },
  {
   "cell_type": "markdown",
   "id": "7f4ffdeb-a7a4-459d-a384-c870805be0de",
   "metadata": {},
   "source": [
    "## 네이버에서 해외 지수 수집하기(JSON 파일 크롤링 pg.119~)"
   ]
  },
  {
   "cell_type": "code",
   "execution_count": 2,
   "id": "da47fdc0-b50e-4d2e-9a6e-9949e1aa60a7",
   "metadata": {},
   "outputs": [],
   "source": [
    "#해외지수를 json 형태로 크롤링하는 단계 S&P500 url:https://finance.naver.com/world/worldDayListJson.naver?symbol=SPI@SPX&fdtc=0&page=3\n",
    "import pandas as pd\n",
    "import requests, json   # 해외지수는 json 형태로 표출됨\n",
    "headers = {\n",
    "    'User-Agent': 'Mozilla/5.0',\n",
    "    'X-Requested-With': 'XMLHttpRequest',\n",
    "}"
   ]
  },
  {
   "cell_type": "code",
   "execution_count": 3,
   "id": "0a5318ba-0897-491a-9e86-e1d4a812a9b6",
   "metadata": {},
   "outputs": [],
   "source": [
    "symbol = 'SPI@SPX'\n",
    "page = 1\n",
    "url= 'https://finance.naver.com/world/worldDayListJson.naver?symbol='+symbol+'&fdtc=0&page='+str(page)\n",
    "r = requests.post(url, headers=headers)\n",
    "data = json.loads(r.text)"
   ]
  },
  {
   "cell_type": "code",
   "execution_count": 4,
   "id": "20ebe38e-713f-434f-b935-0b250ed2e69e",
   "metadata": {},
   "outputs": [
    {
     "data": {
      "text/plain": [
       "{'symb': 'SPI@SPX',\n",
       " 'xymd': '20240129',\n",
       " 'open': 4892.95,\n",
       " 'high': 4929.31,\n",
       " 'low': 4887.4,\n",
       " 'clos': 4927.93,\n",
       " 'diff': 36.96,\n",
       " 'rate': 0.76,\n",
       " 'gvol': 2312494390}"
      ]
     },
     "execution_count": 4,
     "metadata": {},
     "output_type": "execute_result"
    }
   ],
   "source": [
    "data[0]"
   ]
  },
  {
   "cell_type": "code",
   "execution_count": 5,
   "id": "24ba3156-095c-4a0b-bbe0-26a118163466",
   "metadata": {},
   "outputs": [
    {
     "data": {
      "text/plain": [
       "'SPI@SPX'"
      ]
     },
     "execution_count": 5,
     "metadata": {},
     "output_type": "execute_result"
    }
   ],
   "source": [
    "data[0]['symb'] #종목 이름"
   ]
  },
  {
   "cell_type": "code",
   "execution_count": 6,
   "id": "41733ccb-74fe-4cbf-861b-84a154c07b0f",
   "metadata": {},
   "outputs": [
    {
     "data": {
      "text/plain": [
       "'20240129'"
      ]
     },
     "execution_count": 6,
     "metadata": {},
     "output_type": "execute_result"
    }
   ],
   "source": [
    "data[0]['xymd'] #날짜 "
   ]
  },
  {
   "cell_type": "code",
   "execution_count": 7,
   "id": "ae99b429-8d8a-49f3-ac45-842d9c48a965",
   "metadata": {},
   "outputs": [
    {
     "data": {
      "text/plain": [
       "4927.93"
      ]
     },
     "execution_count": 7,
     "metadata": {},
     "output_type": "execute_result"
    }
   ],
   "source": [
    "data[0]['clos'] #종가"
   ]
  },
  {
   "cell_type": "code",
   "execution_count": 8,
   "id": "1a9a1ab4-1e95-418c-b395-158a360cf04f",
   "metadata": {},
   "outputs": [
    {
     "name": "stdout",
     "output_type": "stream",
     "text": [
      "{datetime.date(2024, 1, 29): 4927.93, datetime.date(2024, 1, 26): 4890.97, datetime.date(2024, 1, 25): 4894.16, datetime.date(2024, 1, 24): 4868.55, datetime.date(2024, 1, 23): 4864.6, datetime.date(2024, 1, 22): 4850.43, datetime.date(2024, 1, 19): 4839.81, datetime.date(2024, 1, 18): 4780.94, datetime.date(2024, 1, 17): 4739.21, datetime.date(2024, 1, 16): 4765.98}\n"
     ]
    }
   ],
   "source": [
    "#한 페이지에 있는 총 열흘 치 데이터 중 날짜와 종가만 뽑아서 딕셔너리에 저장\n",
    "d = dict()\n",
    "for n in range(len(data)):\n",
    "    date=pd.to_datetime(data[n]['xymd']).date()\n",
    "    price=float(data[n]['clos'])\n",
    "    d[date] = price\n",
    "print(d)"
   ]
  },
  {
   "cell_type": "code",
   "execution_count": 9,
   "id": "6c81f747-fbfd-44f2-967c-4af8147e745f",
   "metadata": {},
   "outputs": [],
   "source": [
    "#지금까지 한 내용을 read_json함수로 만들기\n",
    "def read_json(d, symbol, page=1):\n",
    "    url = 'https://finance.naver.com/world/worldDayListJson.naver?symbol='+symbol+'&fdtc=0&page='+str(page)\n",
    "    r = requests.post(url, headers=headers)\n",
    "    data = json.loads(r.text)\n",
    "    \n",
    "    for n in range(len(data)):\n",
    "        date = pd.to_datetime(data[n]['xymd']).date()\n",
    "        price = float(data[n]['clos'])\n",
    "        d[date] = price\n",
    "        \n",
    "    if len(data) >= 9 and page<3:\n",
    "        page += 1\n",
    "        read_json(d, symbol, page)\n",
    "        \n",
    "    return d"
   ]
  },
  {
   "cell_type": "code",
   "execution_count": 10,
   "id": "08780043-d333-4607-a086-0e830cd70ced",
   "metadata": {},
   "outputs": [
    {
     "name": "stderr",
     "output_type": "stream",
     "text": [
      "/var/folders/7r/6vmcd3950rvf97kgvtk_twg40000gn/T/ipykernel_32757/4126586512.py:1: DeprecationWarning: The default dtype for empty Series will be 'object' instead of 'float64' in a future version. Specify a dtype explicitly to silence this warning.\n",
      "  historical_index= pd.Series()\n"
     ]
    }
   ],
   "source": [
    "historical_index= pd.Series()\n",
    "historical_index = read_json(historical_index, symbol, page)"
   ]
  },
  {
   "cell_type": "code",
   "execution_count": 11,
   "id": "de8014bd-0718-4950-b335-2f87f83265a9",
   "metadata": {},
   "outputs": [
    {
     "data": {
      "text/plain": [
       "2024-01-29    4927.93\n",
       "2024-01-26    4890.97\n",
       "2024-01-25    4894.16\n",
       "2024-01-24    4868.55\n",
       "2024-01-23    4864.60\n",
       "dtype: float64"
      ]
     },
     "execution_count": 11,
     "metadata": {},
     "output_type": "execute_result"
    }
   ],
   "source": [
    "historical_index.head()"
   ]
  },
  {
   "cell_type": "code",
   "execution_count": 12,
   "id": "6856611f-b3ce-41b0-9659-56dbd9d0e548",
   "metadata": {},
   "outputs": [],
   "source": [
    "indices = {\n",
    "    'SPI@SPX' : 'S&P 500', \n",
    "    'NAS@NDX' : 'Nasdaq 100', \n",
    "    'NII@NI225' : 'Nikkei 225',\n",
    "}"
   ]
  },
  {
   "cell_type": "code",
   "execution_count": 13,
   "id": "bdfba2f6-ecfd-43f3-9668-d7785291fcfb",
   "metadata": {},
   "outputs": [
    {
     "name": "stdout",
     "output_type": "stream",
     "text": [
      "SPI@SPX S&P 500\n",
      "NAS@NDX Nasdaq 100\n",
      "NII@NI225 Nikkei 225\n"
     ]
    }
   ],
   "source": [
    "historical_indices = dict()\n",
    "for key, value in indices.items():\n",
    "    print(key, value)\n",
    "    s = dict()\n",
    "    s= read_json(s,key,1)\n",
    "    historical_indices[value] = s \n",
    "prices_df = pd.DataFrame(historical_indices)\n",
    "prices_df.sort_index(inplace=True)"
   ]
  },
  {
   "cell_type": "code",
   "execution_count": 21,
   "id": "8a19b426-583b-4c9f-855b-f4de1981a78d",
   "metadata": {},
   "outputs": [
    {
     "data": {
      "text/html": [
       "<div>\n",
       "<style scoped>\n",
       "    .dataframe tbody tr th:only-of-type {\n",
       "        vertical-align: middle;\n",
       "    }\n",
       "\n",
       "    .dataframe tbody tr th {\n",
       "        vertical-align: top;\n",
       "    }\n",
       "\n",
       "    .dataframe thead th {\n",
       "        text-align: right;\n",
       "    }\n",
       "</style>\n",
       "<table border=\"1\" class=\"dataframe\">\n",
       "  <thead>\n",
       "    <tr style=\"text-align: right;\">\n",
       "      <th></th>\n",
       "      <th>S&amp;P 500</th>\n",
       "      <th>Nasdaq 100</th>\n",
       "      <th>Nikkei 225</th>\n",
       "    </tr>\n",
       "  </thead>\n",
       "  <tbody>\n",
       "    <tr>\n",
       "      <th>2021-03-31</th>\n",
       "      <td>3972.89</td>\n",
       "      <td>13091.44</td>\n",
       "      <td>NaN</td>\n",
       "    </tr>\n",
       "    <tr>\n",
       "      <th>2021-03-30</th>\n",
       "      <td>3958.55</td>\n",
       "      <td>12896.53</td>\n",
       "      <td>NaN</td>\n",
       "    </tr>\n",
       "    <tr>\n",
       "      <th>2021-03-29</th>\n",
       "      <td>3971.09</td>\n",
       "      <td>12965.74</td>\n",
       "      <td>NaN</td>\n",
       "    </tr>\n",
       "    <tr>\n",
       "      <th>2021-03-26</th>\n",
       "      <td>3974.54</td>\n",
       "      <td>12979.12</td>\n",
       "      <td>NaN</td>\n",
       "    </tr>\n",
       "    <tr>\n",
       "      <th>2021-03-25</th>\n",
       "      <td>3909.52</td>\n",
       "      <td>12780.51</td>\n",
       "      <td>NaN</td>\n",
       "    </tr>\n",
       "    <tr>\n",
       "      <th>...</th>\n",
       "      <td>...</td>\n",
       "      <td>...</td>\n",
       "      <td>...</td>\n",
       "    </tr>\n",
       "    <tr>\n",
       "      <th>2021-01-08</th>\n",
       "      <td>3824.68</td>\n",
       "      <td>13105.20</td>\n",
       "      <td>NaN</td>\n",
       "    </tr>\n",
       "    <tr>\n",
       "      <th>2021-01-07</th>\n",
       "      <td>3803.79</td>\n",
       "      <td>12939.57</td>\n",
       "      <td>NaN</td>\n",
       "    </tr>\n",
       "    <tr>\n",
       "      <th>2021-01-06</th>\n",
       "      <td>3748.14</td>\n",
       "      <td>12623.35</td>\n",
       "      <td>NaN</td>\n",
       "    </tr>\n",
       "    <tr>\n",
       "      <th>2021-01-05</th>\n",
       "      <td>3726.86</td>\n",
       "      <td>12802.38</td>\n",
       "      <td>NaN</td>\n",
       "    </tr>\n",
       "    <tr>\n",
       "      <th>2021-01-04</th>\n",
       "      <td>3700.65</td>\n",
       "      <td>12694.67</td>\n",
       "      <td>NaN</td>\n",
       "    </tr>\n",
       "  </tbody>\n",
       "</table>\n",
       "<p>61 rows × 3 columns</p>\n",
       "</div>"
      ],
      "text/plain": [
       "            S&P 500  Nasdaq 100  Nikkei 225\n",
       "2021-03-31  3972.89    13091.44         NaN\n",
       "2021-03-30  3958.55    12896.53         NaN\n",
       "2021-03-29  3971.09    12965.74         NaN\n",
       "2021-03-26  3974.54    12979.12         NaN\n",
       "2021-03-25  3909.52    12780.51         NaN\n",
       "...             ...         ...         ...\n",
       "2021-01-08  3824.68    13105.20         NaN\n",
       "2021-01-07  3803.79    12939.57         NaN\n",
       "2021-01-06  3748.14    12623.35         NaN\n",
       "2021-01-05  3726.86    12802.38         NaN\n",
       "2021-01-04  3700.65    12694.67         NaN\n",
       "\n",
       "[61 rows x 3 columns]"
      ]
     },
     "execution_count": 21,
     "metadata": {},
     "output_type": "execute_result"
    }
   ],
   "source": [
    "prices_df"
   ]
  },
  {
   "cell_type": "code",
   "execution_count": 22,
   "id": "398cf704-e335-43a8-992a-5272dd47683b",
   "metadata": {},
   "outputs": [],
   "source": [
    "#날짜에 공백이 들어오면 오늘 날짜를 반환하는 기능을 구현\n",
    "def date_format(d=''):\n",
    "    if d != '':\n",
    "        this_date=pd.to_datetime(d).date()\n",
    "    else:\n",
    "        this_date = pd.Timestamp.today().date() # 오늘 날짜를 지정\n",
    "    return (this_date)"
   ]
  },
  {
   "cell_type": "code",
   "execution_count": 23,
   "id": "85205d40-070e-4ecc-9275-74169c2c7479",
   "metadata": {},
   "outputs": [],
   "source": [
    "#해외 지수를 크롤링하는 전체 함수\n",
    "def index_global(d, symbol, start_date='',end_date='',page=1):\n",
    "    end_date = date_format(end_date)\n",
    "    if start_date == '':\n",
    "        start_date = end_date - pd.DateOffset(months=1)\n",
    "    start_date = date_format(start_date)\n",
    "    \n",
    "    url='https://finance.naver.com/world/worldDayListJson.naver?symbol='+symbol+'&fdtc=0&page='+str(page)\n",
    "    raw = requests.post(url,headers=headers)\n",
    "    data = json.loads(raw.text)\n",
    "    \n",
    "    if len(data) > 0:\n",
    "        for n in range(len(data)):\n",
    "            date = pd.to_datetime(data[n]['xymd']).date()\n",
    "            \n",
    "            if date <= end_date and date >= start_date:\n",
    "            #start_date 와 end_date 사이에서 데이터 저장\n",
    "                #종가 처리\n",
    "                price = float(data[n]['clos'])\n",
    "                #딕셔너리에 저장\n",
    "                d[date] = price\n",
    "            elif date < start_date:\n",
    "            #start_date 이전이면 함수 종료\n",
    "                return(d)\n",
    "                        \n",
    "        if len(data) >= 9:\n",
    "            page +=1\n",
    "            index_global(d, symbol, start_date,end_date,page)\n",
    "    return(d)"
   ]
  },
  {
   "cell_type": "code",
   "execution_count": 29,
   "id": "0abef9da-27f6-467a-8956-1475901d9442",
   "metadata": {},
   "outputs": [],
   "source": [
    "historical_indices = dict()\n",
    "start_date = '2021-01-01'\n",
    "end_date = '2021-3-31'\n",
    "for key, value in indices.items(): \n",
    "    s = dict()\n",
    "    s = index_global(s, key, start_date, end_date)\n",
    "    historical_indices[value] = s    \n",
    "prices_df = pd.DataFrame(historical_indices)"
   ]
  },
  {
   "cell_type": "code",
   "execution_count": 31,
   "id": "9d6d18ca-c265-4cb4-b10b-b63296183830",
   "metadata": {},
   "outputs": [
    {
     "data": {
      "text/html": [
       "<div>\n",
       "<style scoped>\n",
       "    .dataframe tbody tr th:only-of-type {\n",
       "        vertical-align: middle;\n",
       "    }\n",
       "\n",
       "    .dataframe tbody tr th {\n",
       "        vertical-align: top;\n",
       "    }\n",
       "\n",
       "    .dataframe thead th {\n",
       "        text-align: right;\n",
       "    }\n",
       "</style>\n",
       "<table border=\"1\" class=\"dataframe\">\n",
       "  <thead>\n",
       "    <tr style=\"text-align: right;\">\n",
       "      <th></th>\n",
       "      <th>S&amp;P 500</th>\n",
       "      <th>Nasdaq 100</th>\n",
       "      <th>Nikkei 225</th>\n",
       "    </tr>\n",
       "  </thead>\n",
       "  <tbody>\n",
       "    <tr>\n",
       "      <th>2021-03-31</th>\n",
       "      <td>3972.89</td>\n",
       "      <td>13091.44</td>\n",
       "      <td>29178.80</td>\n",
       "    </tr>\n",
       "    <tr>\n",
       "      <th>2021-03-30</th>\n",
       "      <td>3958.55</td>\n",
       "      <td>12896.53</td>\n",
       "      <td>29432.70</td>\n",
       "    </tr>\n",
       "    <tr>\n",
       "      <th>2021-03-29</th>\n",
       "      <td>3971.09</td>\n",
       "      <td>12965.74</td>\n",
       "      <td>29384.52</td>\n",
       "    </tr>\n",
       "    <tr>\n",
       "      <th>2021-03-26</th>\n",
       "      <td>3974.54</td>\n",
       "      <td>12979.12</td>\n",
       "      <td>29176.70</td>\n",
       "    </tr>\n",
       "    <tr>\n",
       "      <th>2021-03-25</th>\n",
       "      <td>3909.52</td>\n",
       "      <td>12780.51</td>\n",
       "      <td>28729.88</td>\n",
       "    </tr>\n",
       "    <tr>\n",
       "      <th>...</th>\n",
       "      <td>...</td>\n",
       "      <td>...</td>\n",
       "      <td>...</td>\n",
       "    </tr>\n",
       "    <tr>\n",
       "      <th>2021-01-06</th>\n",
       "      <td>3748.14</td>\n",
       "      <td>12623.35</td>\n",
       "      <td>27055.94</td>\n",
       "    </tr>\n",
       "    <tr>\n",
       "      <th>2021-01-05</th>\n",
       "      <td>3726.86</td>\n",
       "      <td>12802.38</td>\n",
       "      <td>27158.63</td>\n",
       "    </tr>\n",
       "    <tr>\n",
       "      <th>2021-01-04</th>\n",
       "      <td>3700.65</td>\n",
       "      <td>12694.67</td>\n",
       "      <td>27258.38</td>\n",
       "    </tr>\n",
       "    <tr>\n",
       "      <th>2021-02-15</th>\n",
       "      <td>NaN</td>\n",
       "      <td>NaN</td>\n",
       "      <td>30084.15</td>\n",
       "    </tr>\n",
       "    <tr>\n",
       "      <th>2021-01-18</th>\n",
       "      <td>NaN</td>\n",
       "      <td>NaN</td>\n",
       "      <td>28242.21</td>\n",
       "    </tr>\n",
       "  </tbody>\n",
       "</table>\n",
       "<p>63 rows × 3 columns</p>\n",
       "</div>"
      ],
      "text/plain": [
       "            S&P 500  Nasdaq 100  Nikkei 225\n",
       "2021-03-31  3972.89    13091.44    29178.80\n",
       "2021-03-30  3958.55    12896.53    29432.70\n",
       "2021-03-29  3971.09    12965.74    29384.52\n",
       "2021-03-26  3974.54    12979.12    29176.70\n",
       "2021-03-25  3909.52    12780.51    28729.88\n",
       "...             ...         ...         ...\n",
       "2021-01-06  3748.14    12623.35    27055.94\n",
       "2021-01-05  3726.86    12802.38    27158.63\n",
       "2021-01-04  3700.65    12694.67    27258.38\n",
       "2021-02-15      NaN         NaN    30084.15\n",
       "2021-01-18      NaN         NaN    28242.21\n",
       "\n",
       "[63 rows x 3 columns]"
      ]
     },
     "execution_count": 31,
     "metadata": {},
     "output_type": "execute_result"
    }
   ],
   "source": [
    "prices_df"
   ]
  },
  {
   "cell_type": "code",
   "execution_count": 56,
   "id": "cfe3cd92-ce6c-4dde-83d3-0f8a7895d0cf",
   "metadata": {},
   "outputs": [],
   "source": [
    "index_cd = 'KPI200'\n",
    "historical_prices = dict()\n",
    "kospi200 = historical_index_naver(index_cd, '2017-1-1','2017-12-31')"
   ]
  },
  {
   "cell_type": "code",
   "execution_count": 58,
   "id": "b5ad51e6-f771-43eb-9fcf-e2b41860fb29",
   "metadata": {},
   "outputs": [],
   "source": [
    "index_cd = 'SPI@SPX'\n",
    "historical_prices = dict()\n",
    "sp500= index_global(historical_prices, index_cd, '2017-1-1','2017-12-31')"
   ]
  },
  {
   "cell_type": "markdown",
   "id": "13d9c86f-52be-476e-ba56-e43f6c8a32d1",
   "metadata": {},
   "source": [
    "두 지수의 데이터를 구하긴 했지만 sp500, kospi200이라는 서로 다른 통(dict)에 담겨 있기 때문에 두 딕셔너리를 합쳐야 한다"
   ]
  },
  {
   "cell_type": "code",
   "execution_count": 71,
   "id": "95e3c8c9-f868-4a0c-9081-1a6c94793f87",
   "metadata": {
    "collapsed": true,
    "jupyter": {
     "outputs_hidden": true
    },
    "tags": []
   },
   "outputs": [
    {
     "data": {
      "text/plain": [
       "{'S&P500': {datetime.date(2017, 12, 29): 2673.61,\n",
       "  datetime.date(2017, 12, 28): 2687.54,\n",
       "  datetime.date(2017, 12, 27): 2682.62,\n",
       "  datetime.date(2017, 12, 26): 2680.5,\n",
       "  datetime.date(2017, 12, 22): 2683.34,\n",
       "  datetime.date(2017, 12, 21): 2684.57,\n",
       "  datetime.date(2017, 12, 20): 2679.25,\n",
       "  datetime.date(2017, 12, 19): 2681.47,\n",
       "  datetime.date(2017, 12, 18): 2690.16,\n",
       "  datetime.date(2017, 12, 15): 2675.81,\n",
       "  datetime.date(2017, 12, 14): 2652.01,\n",
       "  datetime.date(2017, 12, 13): 2662.85,\n",
       "  datetime.date(2017, 12, 12): 2664.11,\n",
       "  datetime.date(2017, 12, 11): 2659.99,\n",
       "  datetime.date(2017, 12, 8): 2651.5,\n",
       "  datetime.date(2017, 12, 7): 2636.98,\n",
       "  datetime.date(2017, 12, 6): 2629.27,\n",
       "  datetime.date(2017, 12, 5): 2629.57,\n",
       "  datetime.date(2017, 12, 4): 2639.44,\n",
       "  datetime.date(2017, 12, 1): 2642.22,\n",
       "  datetime.date(2017, 11, 30): 2647.58,\n",
       "  datetime.date(2017, 11, 29): 2626.07,\n",
       "  datetime.date(2017, 11, 28): 2627.04,\n",
       "  datetime.date(2017, 11, 27): 2601.42,\n",
       "  datetime.date(2017, 11, 24): 2602.42,\n",
       "  datetime.date(2017, 11, 22): 2597.08,\n",
       "  datetime.date(2017, 11, 21): 2599.03,\n",
       "  datetime.date(2017, 11, 20): 2582.14,\n",
       "  datetime.date(2017, 11, 17): 2578.85,\n",
       "  datetime.date(2017, 11, 16): 2585.64,\n",
       "  datetime.date(2017, 11, 15): 2564.62,\n",
       "  datetime.date(2017, 11, 14): 2578.87,\n",
       "  datetime.date(2017, 11, 13): 2584.84,\n",
       "  datetime.date(2017, 11, 10): 2582.3,\n",
       "  datetime.date(2017, 11, 9): 2584.62,\n",
       "  datetime.date(2017, 11, 8): 2594.38,\n",
       "  datetime.date(2017, 11, 7): 2590.64,\n",
       "  datetime.date(2017, 11, 6): 2591.13,\n",
       "  datetime.date(2017, 11, 3): 2587.84,\n",
       "  datetime.date(2017, 11, 2): 2579.85,\n",
       "  datetime.date(2017, 11, 1): 2579.36,\n",
       "  datetime.date(2017, 10, 31): 2575.26,\n",
       "  datetime.date(2017, 10, 30): 2572.83,\n",
       "  datetime.date(2017, 10, 27): 2581.07,\n",
       "  datetime.date(2017, 10, 26): 2560.4,\n",
       "  datetime.date(2017, 10, 25): 2557.15,\n",
       "  datetime.date(2017, 10, 24): 2569.13,\n",
       "  datetime.date(2017, 10, 23): 2564.98,\n",
       "  datetime.date(2017, 10, 20): 2575.21,\n",
       "  datetime.date(2017, 10, 19): 2562.1,\n",
       "  datetime.date(2017, 10, 18): 2561.26,\n",
       "  datetime.date(2017, 10, 17): 2559.36,\n",
       "  datetime.date(2017, 10, 16): 2557.64,\n",
       "  datetime.date(2017, 10, 13): 2553.17,\n",
       "  datetime.date(2017, 10, 12): 2550.93,\n",
       "  datetime.date(2017, 10, 11): 2555.24,\n",
       "  datetime.date(2017, 10, 10): 2550.64,\n",
       "  datetime.date(2017, 10, 9): 2544.73,\n",
       "  datetime.date(2017, 10, 6): 2549.33,\n",
       "  datetime.date(2017, 10, 5): 2552.07,\n",
       "  datetime.date(2017, 10, 4): 2537.74,\n",
       "  datetime.date(2017, 10, 3): 2534.58,\n",
       "  datetime.date(2017, 10, 2): 2529.12,\n",
       "  datetime.date(2017, 9, 29): 2519.36,\n",
       "  datetime.date(2017, 9, 28): 2510.06,\n",
       "  datetime.date(2017, 9, 27): 2507.04,\n",
       "  datetime.date(2017, 9, 26): 2496.84,\n",
       "  datetime.date(2017, 9, 25): 2496.66,\n",
       "  datetime.date(2017, 9, 22): 2502.22,\n",
       "  datetime.date(2017, 9, 21): 2500.6,\n",
       "  datetime.date(2017, 9, 20): 2508.24,\n",
       "  datetime.date(2017, 9, 19): 2506.65,\n",
       "  datetime.date(2017, 9, 18): 2503.87,\n",
       "  datetime.date(2017, 9, 15): 2500.23,\n",
       "  datetime.date(2017, 9, 14): 2495.62,\n",
       "  datetime.date(2017, 9, 13): 2498.37,\n",
       "  datetime.date(2017, 9, 12): 2496.48,\n",
       "  datetime.date(2017, 9, 11): 2488.11,\n",
       "  datetime.date(2017, 9, 8): 2461.43,\n",
       "  datetime.date(2017, 9, 7): 2465.1,\n",
       "  datetime.date(2017, 9, 6): 2465.54,\n",
       "  datetime.date(2017, 9, 5): 2457.85,\n",
       "  datetime.date(2017, 9, 1): 2476.55,\n",
       "  datetime.date(2017, 8, 31): 2471.65,\n",
       "  datetime.date(2017, 8, 30): 2457.59,\n",
       "  datetime.date(2017, 8, 29): 2446.3,\n",
       "  datetime.date(2017, 8, 28): 2444.24,\n",
       "  datetime.date(2017, 8, 25): 2443.05,\n",
       "  datetime.date(2017, 8, 24): 2438.97,\n",
       "  datetime.date(2017, 8, 23): 2444.04,\n",
       "  datetime.date(2017, 8, 22): 2452.51,\n",
       "  datetime.date(2017, 8, 21): 2428.37,\n",
       "  datetime.date(2017, 8, 18): 2425.55,\n",
       "  datetime.date(2017, 8, 17): 2430.01,\n",
       "  datetime.date(2017, 8, 16): 2468.11,\n",
       "  datetime.date(2017, 8, 15): 2464.61,\n",
       "  datetime.date(2017, 8, 14): 2465.84,\n",
       "  datetime.date(2017, 8, 11): 2441.32,\n",
       "  datetime.date(2017, 8, 10): 2438.21,\n",
       "  datetime.date(2017, 8, 9): 2474.02,\n",
       "  datetime.date(2017, 8, 8): 2474.92,\n",
       "  datetime.date(2017, 8, 7): 2480.91,\n",
       "  datetime.date(2017, 8, 4): 2476.83,\n",
       "  datetime.date(2017, 8, 3): 2472.16,\n",
       "  datetime.date(2017, 8, 2): 2477.57,\n",
       "  datetime.date(2017, 8, 1): 2476.35,\n",
       "  datetime.date(2017, 7, 31): 2470.3,\n",
       "  datetime.date(2017, 7, 28): 2472.1,\n",
       "  datetime.date(2017, 7, 27): 2475.42,\n",
       "  datetime.date(2017, 7, 26): 2477.83,\n",
       "  datetime.date(2017, 7, 25): 2477.13,\n",
       "  datetime.date(2017, 7, 24): 2469.91,\n",
       "  datetime.date(2017, 7, 21): 2472.54,\n",
       "  datetime.date(2017, 7, 20): 2473.45,\n",
       "  datetime.date(2017, 7, 19): 2473.83,\n",
       "  datetime.date(2017, 7, 18): 2460.61,\n",
       "  datetime.date(2017, 7, 17): 2459.14,\n",
       "  datetime.date(2017, 7, 14): 2459.27,\n",
       "  datetime.date(2017, 7, 13): 2447.83,\n",
       "  datetime.date(2017, 7, 12): 2443.25,\n",
       "  datetime.date(2017, 7, 11): 2425.53,\n",
       "  datetime.date(2017, 7, 10): 2427.43,\n",
       "  datetime.date(2017, 7, 7): 2425.18,\n",
       "  datetime.date(2017, 7, 6): 2409.75,\n",
       "  datetime.date(2017, 7, 5): 2432.54,\n",
       "  datetime.date(2017, 7, 3): 2429.01,\n",
       "  datetime.date(2017, 6, 30): 2423.41,\n",
       "  datetime.date(2017, 6, 29): 2419.7,\n",
       "  datetime.date(2017, 6, 28): 2440.69,\n",
       "  datetime.date(2017, 6, 27): 2419.38,\n",
       "  datetime.date(2017, 6, 26): 2439.07,\n",
       "  datetime.date(2017, 6, 23): 2438.3,\n",
       "  datetime.date(2017, 6, 22): 2434.5,\n",
       "  datetime.date(2017, 6, 21): 2435.61,\n",
       "  datetime.date(2017, 6, 20): 2437.03,\n",
       "  datetime.date(2017, 6, 19): 2453.46,\n",
       "  datetime.date(2017, 6, 16): 2433.15,\n",
       "  datetime.date(2017, 6, 15): 2432.46,\n",
       "  datetime.date(2017, 6, 14): 2437.92,\n",
       "  datetime.date(2017, 6, 13): 2440.35,\n",
       "  datetime.date(2017, 6, 12): 2429.39,\n",
       "  datetime.date(2017, 6, 9): 2431.77,\n",
       "  datetime.date(2017, 6, 8): 2433.79,\n",
       "  datetime.date(2017, 6, 7): 2433.14,\n",
       "  datetime.date(2017, 6, 6): 2429.33,\n",
       "  datetime.date(2017, 6, 5): 2436.1,\n",
       "  datetime.date(2017, 6, 2): 2439.07,\n",
       "  datetime.date(2017, 6, 1): 2430.06,\n",
       "  datetime.date(2017, 5, 31): 2411.8,\n",
       "  datetime.date(2017, 5, 30): 2412.91,\n",
       "  datetime.date(2017, 5, 26): 2415.82,\n",
       "  datetime.date(2017, 5, 25): 2415.07,\n",
       "  datetime.date(2017, 5, 24): 2404.39,\n",
       "  datetime.date(2017, 5, 23): 2398.42,\n",
       "  datetime.date(2017, 5, 22): 2394.02,\n",
       "  datetime.date(2017, 5, 19): 2381.73,\n",
       "  datetime.date(2017, 5, 18): 2365.72,\n",
       "  datetime.date(2017, 5, 17): 2357.03,\n",
       "  datetime.date(2017, 5, 16): 2400.67,\n",
       "  datetime.date(2017, 5, 15): 2402.32,\n",
       "  datetime.date(2017, 5, 12): 2390.9,\n",
       "  datetime.date(2017, 5, 11): 2394.44,\n",
       "  datetime.date(2017, 5, 10): 2399.63,\n",
       "  datetime.date(2017, 5, 9): 2396.92,\n",
       "  datetime.date(2017, 5, 8): 2399.38,\n",
       "  datetime.date(2017, 5, 5): 2399.29,\n",
       "  datetime.date(2017, 5, 4): 2389.52,\n",
       "  datetime.date(2017, 5, 3): 2388.13,\n",
       "  datetime.date(2017, 5, 2): 2391.17,\n",
       "  datetime.date(2017, 5, 1): 2388.33,\n",
       "  datetime.date(2017, 4, 28): 2384.2,\n",
       "  datetime.date(2017, 4, 27): 2388.77,\n",
       "  datetime.date(2017, 4, 26): 2387.45,\n",
       "  datetime.date(2017, 4, 25): 2388.61,\n",
       "  datetime.date(2017, 4, 24): 2374.15,\n",
       "  datetime.date(2017, 4, 21): 2348.69,\n",
       "  datetime.date(2017, 4, 20): 2355.84,\n",
       "  datetime.date(2017, 4, 19): 2338.17,\n",
       "  datetime.date(2017, 4, 18): 2342.19,\n",
       "  datetime.date(2017, 4, 17): 2349.01,\n",
       "  datetime.date(2017, 4, 13): 2328.95,\n",
       "  datetime.date(2017, 4, 12): 2344.93,\n",
       "  datetime.date(2017, 4, 11): 2353.78,\n",
       "  datetime.date(2017, 4, 10): 2357.16,\n",
       "  datetime.date(2017, 4, 7): 2355.54,\n",
       "  datetime.date(2017, 4, 6): 2357.49,\n",
       "  datetime.date(2017, 4, 5): 2352.95,\n",
       "  datetime.date(2017, 4, 4): 2360.16,\n",
       "  datetime.date(2017, 4, 3): 2358.84,\n",
       "  datetime.date(2017, 3, 31): 2362.72,\n",
       "  datetime.date(2017, 3, 30): 2368.06,\n",
       "  datetime.date(2017, 3, 29): 2361.13,\n",
       "  datetime.date(2017, 3, 28): 2358.57,\n",
       "  datetime.date(2017, 3, 27): 2341.59,\n",
       "  datetime.date(2017, 3, 24): 2343.98,\n",
       "  datetime.date(2017, 3, 23): 2345.96,\n",
       "  datetime.date(2017, 3, 22): 2348.45,\n",
       "  datetime.date(2017, 3, 21): 2344.02,\n",
       "  datetime.date(2017, 3, 20): 2373.47,\n",
       "  datetime.date(2017, 3, 17): 2378.25,\n",
       "  datetime.date(2017, 3, 16): 2381.38,\n",
       "  datetime.date(2017, 3, 15): 2385.26,\n",
       "  datetime.date(2017, 3, 14): 2365.45,\n",
       "  datetime.date(2017, 3, 13): 2373.47,\n",
       "  datetime.date(2017, 3, 10): 2372.6,\n",
       "  datetime.date(2017, 3, 9): 2364.87,\n",
       "  datetime.date(2017, 3, 8): 2362.98,\n",
       "  datetime.date(2017, 3, 7): 2368.39,\n",
       "  datetime.date(2017, 3, 6): 2375.31,\n",
       "  datetime.date(2017, 3, 3): 2383.12,\n",
       "  datetime.date(2017, 3, 2): 2381.92,\n",
       "  datetime.date(2017, 3, 1): 2395.96,\n",
       "  datetime.date(2017, 2, 28): 2363.64,\n",
       "  datetime.date(2017, 2, 27): 2369.75,\n",
       "  datetime.date(2017, 2, 24): 2367.34,\n",
       "  datetime.date(2017, 2, 23): 2363.81,\n",
       "  datetime.date(2017, 2, 22): 2362.82,\n",
       "  datetime.date(2017, 2, 21): 2365.38,\n",
       "  datetime.date(2017, 2, 17): 2351.16,\n",
       "  datetime.date(2017, 2, 16): 2347.22,\n",
       "  datetime.date(2017, 2, 15): 2349.25,\n",
       "  datetime.date(2017, 2, 14): 2337.58,\n",
       "  datetime.date(2017, 2, 13): 2328.25,\n",
       "  datetime.date(2017, 2, 10): 2316.1,\n",
       "  datetime.date(2017, 2, 9): 2307.87,\n",
       "  datetime.date(2017, 2, 8): 2294.67,\n",
       "  datetime.date(2017, 2, 7): 2293.08,\n",
       "  datetime.date(2017, 2, 6): 2292.56,\n",
       "  datetime.date(2017, 2, 3): 2297.42,\n",
       "  datetime.date(2017, 2, 2): 2280.85,\n",
       "  datetime.date(2017, 2, 1): 2279.55,\n",
       "  datetime.date(2017, 1, 31): 2278.87,\n",
       "  datetime.date(2017, 1, 30): 2280.9,\n",
       "  datetime.date(2017, 1, 27): 2294.69,\n",
       "  datetime.date(2017, 1, 26): 2296.68,\n",
       "  datetime.date(2017, 1, 25): 2298.37,\n",
       "  datetime.date(2017, 1, 24): 2280.07,\n",
       "  datetime.date(2017, 1, 23): 2265.2,\n",
       "  datetime.date(2017, 1, 20): 2271.31,\n",
       "  datetime.date(2017, 1, 19): 2263.69,\n",
       "  datetime.date(2017, 1, 18): 2271.89,\n",
       "  datetime.date(2017, 1, 17): 2267.89,\n",
       "  datetime.date(2017, 1, 13): 2274.64,\n",
       "  datetime.date(2017, 1, 12): 2270.44,\n",
       "  datetime.date(2017, 1, 11): 2275.32,\n",
       "  datetime.date(2017, 1, 10): 2268.9,\n",
       "  datetime.date(2017, 1, 9): 2268.9,\n",
       "  datetime.date(2017, 1, 6): 2276.98,\n",
       "  datetime.date(2017, 1, 5): 2269.0,\n",
       "  datetime.date(2017, 1, 4): 2270.75,\n",
       "  datetime.date(2017, 1, 3): 2257.83},\n",
       " 'KOSPI200': {datetime.date(2017, 12, 28): 324.74,\n",
       "  datetime.date(2017, 12, 27): 320.25,\n",
       "  datetime.date(2017, 12, 26): 318.89,\n",
       "  datetime.date(2017, 12, 22): 321.21,\n",
       "  datetime.date(2017, 12, 21): 319.72,\n",
       "  datetime.date(2017, 12, 20): 325.79,\n",
       "  datetime.date(2017, 12, 19): 326.76,\n",
       "  datetime.date(2017, 12, 18): 326.6,\n",
       "  datetime.date(2017, 12, 15): 326.23,\n",
       "  datetime.date(2017, 12, 14): 324.74,\n",
       "  datetime.date(2017, 12, 13): 326.18,\n",
       "  datetime.date(2017, 12, 12): 324.07,\n",
       "  datetime.date(2017, 12, 11): 325.09,\n",
       "  datetime.date(2017, 12, 8): 324.68,\n",
       "  datetime.date(2017, 12, 7): 323.59,\n",
       "  datetime.date(2017, 12, 6): 324.52,\n",
       "  datetime.date(2017, 12, 5): 329.61,\n",
       "  datetime.date(2017, 12, 4): 328.77,\n",
       "  datetime.date(2017, 12, 1): 324.78,\n",
       "  datetime.date(2017, 11, 30): 325.25,\n",
       "  datetime.date(2017, 11, 29): 330.68,\n",
       "  datetime.date(2017, 11, 28): 330.99,\n",
       "  datetime.date(2017, 11, 27): 329.53,\n",
       "  datetime.date(2017, 11, 24): 335.44,\n",
       "  datetime.date(2017, 11, 23): 334.51,\n",
       "  datetime.date(2017, 11, 22): 335.49,\n",
       "  datetime.date(2017, 11, 21): 333.51,\n",
       "  datetime.date(2017, 11, 20): 332.92,\n",
       "  datetime.date(2017, 11, 17): 334.18,\n",
       "  datetime.date(2017, 11, 16): 334.36,\n",
       "  datetime.date(2017, 11, 15): 332.17,\n",
       "  datetime.date(2017, 11, 14): 333.62,\n",
       "  datetime.date(2017, 11, 13): 334.33,\n",
       "  datetime.date(2017, 11, 10): 335.96,\n",
       "  datetime.date(2017, 11, 9): 337.14,\n",
       "  datetime.date(2017, 11, 8): 337.8,\n",
       "  datetime.date(2017, 11, 7): 336.76,\n",
       "  datetime.date(2017, 11, 6): 337.4,\n",
       "  datetime.date(2017, 11, 3): 338.83,\n",
       "  datetime.date(2017, 11, 2): 337.53,\n",
       "  datetime.date(2017, 11, 1): 338.76,\n",
       "  datetime.date(2017, 10, 31): 333.57,\n",
       "  datetime.date(2017, 10, 30): 330.38,\n",
       "  datetime.date(2017, 10, 27): 329.23,\n",
       "  datetime.date(2017, 10, 26): 326.99,\n",
       "  datetime.date(2017, 10, 25): 329.31,\n",
       "  datetime.date(2017, 10, 24): 328.96,\n",
       "  datetime.date(2017, 10, 23): 329.45,\n",
       "  datetime.date(2017, 10, 20): 328.89,\n",
       "  datetime.date(2017, 10, 19): 326.47,\n",
       "  datetime.date(2017, 10, 18): 328.4,\n",
       "  datetime.date(2017, 10, 17): 328.51,\n",
       "  datetime.date(2017, 10, 16): 327.82,\n",
       "  datetime.date(2017, 10, 13): 327.35,\n",
       "  datetime.date(2017, 10, 12): 328.11,\n",
       "  datetime.date(2017, 10, 11): 326.12,\n",
       "  datetime.date(2017, 10, 10): 322.49,\n",
       "  datetime.date(2017, 9, 29): 316.27,\n",
       "  datetime.date(2017, 9, 28): 313.85,\n",
       "  datetime.date(2017, 9, 27): 313.82,\n",
       "  datetime.date(2017, 9, 26): 314.29,\n",
       "  datetime.date(2017, 9, 25): 316.4,\n",
       "  datetime.date(2017, 9, 22): 316.71,\n",
       "  datetime.date(2017, 9, 21): 318.25,\n",
       "  datetime.date(2017, 9, 20): 318.48,\n",
       "  datetime.date(2017, 9, 19): 318.51,\n",
       "  datetime.date(2017, 9, 18): 318.93,\n",
       "  datetime.date(2017, 9, 15): 313.69,\n",
       "  datetime.date(2017, 9, 14): 312.52,\n",
       "  datetime.date(2017, 9, 13): 310.0,\n",
       "  datetime.date(2017, 9, 12): 310.42,\n",
       "  datetime.date(2017, 9, 11): 309.83,\n",
       "  datetime.date(2017, 9, 8): 307.43,\n",
       "  datetime.date(2017, 9, 7): 306.97,\n",
       "  datetime.date(2017, 9, 6): 303.18,\n",
       "  datetime.date(2017, 9, 5): 304.06,\n",
       "  datetime.date(2017, 9, 4): 304.19,\n",
       "  datetime.date(2017, 9, 1): 307.78,\n",
       "  datetime.date(2017, 8, 31): 308.28,\n",
       "  datetime.date(2017, 8, 30): 309.65,\n",
       "  datetime.date(2017, 8, 29): 308.64,\n",
       "  datetime.date(2017, 8, 28): 309.53,\n",
       "  datetime.date(2017, 8, 25): 311.21,\n",
       "  datetime.date(2017, 8, 24): 310.73,\n",
       "  datetime.date(2017, 8, 23): 309.71,\n",
       "  datetime.date(2017, 8, 22): 309.34,\n",
       "  datetime.date(2017, 8, 21): 308.14,\n",
       "  datetime.date(2017, 8, 18): 308.39,\n",
       "  datetime.date(2017, 8, 17): 309.02,\n",
       "  datetime.date(2017, 8, 16): 307.16,\n",
       "  datetime.date(2017, 8, 14): 304.93,\n",
       "  datetime.date(2017, 8, 11): 302.72,\n",
       "  datetime.date(2017, 8, 10): 308.37,\n",
       "  datetime.date(2017, 8, 9): 309.52,\n",
       "  datetime.date(2017, 8, 8): 313.4,\n",
       "  datetime.date(2017, 8, 7): 313.96,\n",
       "  datetime.date(2017, 8, 4): 313.46,\n",
       "  datetime.date(2017, 8, 3): 312.29,\n",
       "  datetime.date(2017, 8, 2): 317.69,\n",
       "  datetime.date(2017, 8, 1): 317.04,\n",
       "  datetime.date(2017, 7, 31): 314.6,\n",
       "  datetime.date(2017, 7, 28): 314.13,\n",
       "  datetime.date(2017, 7, 27): 320.51,\n",
       "  datetime.date(2017, 7, 26): 319.46,\n",
       "  datetime.date(2017, 7, 25): 320.15,\n",
       "  datetime.date(2017, 7, 24): 322.01,\n",
       "  datetime.date(2017, 7, 21): 321.79,\n",
       "  datetime.date(2017, 7, 20): 320.61,\n",
       "  datetime.date(2017, 7, 19): 318.91,\n",
       "  datetime.date(2017, 7, 18): 318.65,\n",
       "  datetime.date(2017, 7, 17): 318.52,\n",
       "  datetime.date(2017, 7, 14): 317.35,\n",
       "  datetime.date(2017, 7, 13): 316.35,\n",
       "  datetime.date(2017, 7, 12): 313.58,\n",
       "  datetime.date(2017, 7, 11): 313.59,\n",
       "  datetime.date(2017, 7, 10): 311.46,\n",
       "  datetime.date(2017, 7, 7): 310.66,\n",
       "  datetime.date(2017, 7, 6): 311.88,\n",
       "  datetime.date(2017, 7, 5): 311.77,\n",
       "  datetime.date(2017, 7, 4): 310.46,\n",
       "  datetime.date(2017, 7, 3): 312.39,\n",
       "  datetime.date(2017, 6, 30): 311.76,\n",
       "  datetime.date(2017, 6, 29): 312.56,\n",
       "  datetime.date(2017, 6, 28): 310.84,\n",
       "  datetime.date(2017, 6, 27): 312.12,\n",
       "  datetime.date(2017, 6, 26): 311.89,\n",
       "  datetime.date(2017, 6, 23): 310.26,\n",
       "  datetime.date(2017, 6, 22): 309.47,\n",
       "  datetime.date(2017, 6, 21): 307.52,\n",
       "  datetime.date(2017, 6, 20): 309.31,\n",
       "  datetime.date(2017, 6, 19): 308.61,\n",
       "  datetime.date(2017, 6, 16): 306.79,\n",
       "  datetime.date(2017, 6, 15): 306.69,\n",
       "  datetime.date(2017, 6, 14): 307.95,\n",
       "  datetime.date(2017, 6, 13): 308.02,\n",
       "  datetime.date(2017, 6, 12): 306.24,\n",
       "  datetime.date(2017, 6, 9): 309.38,\n",
       "  datetime.date(2017, 6, 8): 306.25,\n",
       "  datetime.date(2017, 6, 7): 305.68,\n",
       "  datetime.date(2017, 6, 5): 307.33,\n",
       "  datetime.date(2017, 6, 2): 307.83,\n",
       "  datetime.date(2017, 6, 1): 304.03,\n",
       "  datetime.date(2017, 5, 31): 304.67,\n",
       "  datetime.date(2017, 5, 30): 304.59,\n",
       "  datetime.date(2017, 5, 29): 306.52,\n",
       "  datetime.date(2017, 5, 26): 306.96,\n",
       "  datetime.date(2017, 5, 25): 305.22,\n",
       "  datetime.date(2017, 5, 24): 301.71,\n",
       "  datetime.date(2017, 5, 23): 301.36,\n",
       "  datetime.date(2017, 5, 22): 300.63,\n",
       "  datetime.date(2017, 5, 19): 298.08,\n",
       "  datetime.date(2017, 5, 18): 298.47,\n",
       "  datetime.date(2017, 5, 17): 299.34,\n",
       "  datetime.date(2017, 5, 16): 299.67,\n",
       "  datetime.date(2017, 5, 15): 298.87,\n",
       "  datetime.date(2017, 5, 12): 298.25,\n",
       "  datetime.date(2017, 5, 11): 299.75,\n",
       "  datetime.date(2017, 5, 10): 296.19,\n",
       "  datetime.date(2017, 5, 8): 299.86,\n",
       "  datetime.date(2017, 5, 4): 292.47,\n",
       "  datetime.date(2017, 5, 2): 289.65,\n",
       "  datetime.date(2017, 4, 28): 287.21,\n",
       "  datetime.date(2017, 4, 27): 287.34,\n",
       "  datetime.date(2017, 4, 26): 286.78,\n",
       "  datetime.date(2017, 4, 25): 285.41,\n",
       "  datetime.date(2017, 4, 24): 281.96,\n",
       "  datetime.date(2017, 4, 21): 280.05,\n",
       "  datetime.date(2017, 4, 20): 277.76,\n",
       "  datetime.date(2017, 4, 19): 276.49,\n",
       "  datetime.date(2017, 4, 18): 278.23,\n",
       "  datetime.date(2017, 4, 17): 278.1,\n",
       "  datetime.date(2017, 4, 14): 277.31,\n",
       "  datetime.date(2017, 4, 13): 279.12,\n",
       "  datetime.date(2017, 4, 12): 276.21,\n",
       "  datetime.date(2017, 4, 11): 275.49,\n",
       "  datetime.date(2017, 4, 10): 277.21,\n",
       "  datetime.date(2017, 4, 7): 279.01,\n",
       "  datetime.date(2017, 4, 6): 279.47,\n",
       "  datetime.date(2017, 4, 5): 280.74,\n",
       "  datetime.date(2017, 4, 4): 280.92,\n",
       "  datetime.date(2017, 4, 3): 281.6,\n",
       "  datetime.date(2017, 3, 31): 280.64,\n",
       "  datetime.date(2017, 3, 30): 281.66,\n",
       "  datetime.date(2017, 3, 29): 281.86,\n",
       "  datetime.date(2017, 3, 28): 281.25,\n",
       "  datetime.date(2017, 3, 27): 280.36,\n",
       "  datetime.date(2017, 3, 24): 282.31,\n",
       "  datetime.date(2017, 3, 23): 282.81,\n",
       "  datetime.date(2017, 3, 22): 282.63,\n",
       "  datetime.date(2017, 3, 21): 283.84,\n",
       "  datetime.date(2017, 3, 20): 280.75,\n",
       "  datetime.date(2017, 3, 17): 281.86,\n",
       "  datetime.date(2017, 3, 16): 280.11,\n",
       "  datetime.date(2017, 3, 15): 277.89,\n",
       "  datetime.date(2017, 3, 14): 277.89,\n",
       "  datetime.date(2017, 3, 13): 275.41,\n",
       "  datetime.date(2017, 3, 10): 272.29,\n",
       "  datetime.date(2017, 3, 9): 271.62,\n",
       "  datetime.date(2017, 3, 8): 272.29,\n",
       "  datetime.date(2017, 3, 7): 271.87,\n",
       "  datetime.date(2017, 3, 6): 270.41,\n",
       "  datetime.date(2017, 3, 3): 269.77,\n",
       "  datetime.date(2017, 3, 2): 272.65,\n",
       "  datetime.date(2017, 2, 28): 270.06,\n",
       "  datetime.date(2017, 2, 27): 268.97,\n",
       "  datetime.date(2017, 2, 24): 270.38,\n",
       "  datetime.date(2017, 2, 23): 272.89,\n",
       "  datetime.date(2017, 2, 22): 272.85,\n",
       "  datetime.date(2017, 2, 21): 272.11,\n",
       "  datetime.date(2017, 2, 20): 269.73,\n",
       "  datetime.date(2017, 2, 17): 268.84,\n",
       "  datetime.date(2017, 2, 16): 268.93,\n",
       "  datetime.date(2017, 2, 15): 268.81,\n",
       "  datetime.date(2017, 2, 14): 267.9,\n",
       "  datetime.date(2017, 2, 13): 268.81,\n",
       "  datetime.date(2017, 2, 10): 268.66,\n",
       "  datetime.date(2017, 2, 9): 267.69,\n",
       "  datetime.date(2017, 2, 8): 267.72,\n",
       "  datetime.date(2017, 2, 7): 268.97,\n",
       "  datetime.date(2017, 2, 6): 269.49,\n",
       "  datetime.date(2017, 2, 3): 268.85,\n",
       "  datetime.date(2017, 2, 2): 268.49,\n",
       "  datetime.date(2017, 2, 1): 269.56,\n",
       "  datetime.date(2017, 1, 31): 268.09,\n",
       "  datetime.date(2017, 1, 26): 270.48,\n",
       "  datetime.date(2017, 1, 25): 268.15,\n",
       "  datetime.date(2017, 1, 24): 267.3,\n",
       "  datetime.date(2017, 1, 23): 267.12,\n",
       "  datetime.date(2017, 1, 20): 266.52,\n",
       "  datetime.date(2017, 1, 19): 267.7,\n",
       "  datetime.date(2017, 1, 18): 267.08,\n",
       "  datetime.date(2017, 1, 17): 267.37,\n",
       "  datetime.date(2017, 1, 16): 266.15,\n",
       "  datetime.date(2017, 1, 13): 267.91,\n",
       "  datetime.date(2017, 1, 12): 269.95,\n",
       "  datetime.date(2017, 1, 11): 268.15,\n",
       "  datetime.date(2017, 1, 10): 263.73,\n",
       "  datetime.date(2017, 1, 9): 263.74,\n",
       "  datetime.date(2017, 1, 6): 263.2,\n",
       "  datetime.date(2017, 1, 5): 261.98,\n",
       "  datetime.date(2017, 1, 4): 263.12,\n",
       "  datetime.date(2017, 1, 3): 262.97,\n",
       "  datetime.date(2017, 1, 2): 260.36}}"
      ]
     },
     "execution_count": 71,
     "metadata": {},
     "output_type": "execute_result"
    }
   ],
   "source": [
    "tmp = {'S&P500': sp500, 'KOSPI200' : kospi200}\n",
    "tmp"
   ]
  },
  {
   "cell_type": "code",
   "execution_count": 73,
   "id": "2ba82ce8-0899-4af6-ad4f-a7fde7f6cea4",
   "metadata": {},
   "outputs": [
    {
     "data": {
      "text/html": [
       "<div>\n",
       "<style scoped>\n",
       "    .dataframe tbody tr th:only-of-type {\n",
       "        vertical-align: middle;\n",
       "    }\n",
       "\n",
       "    .dataframe tbody tr th {\n",
       "        vertical-align: top;\n",
       "    }\n",
       "\n",
       "    .dataframe thead th {\n",
       "        text-align: right;\n",
       "    }\n",
       "</style>\n",
       "<table border=\"1\" class=\"dataframe\">\n",
       "  <thead>\n",
       "    <tr style=\"text-align: right;\">\n",
       "      <th></th>\n",
       "      <th>S&amp;P500</th>\n",
       "      <th>KOSPI200</th>\n",
       "    </tr>\n",
       "  </thead>\n",
       "  <tbody>\n",
       "    <tr>\n",
       "      <th>2017-12-29</th>\n",
       "      <td>2673.61</td>\n",
       "      <td>NaN</td>\n",
       "    </tr>\n",
       "    <tr>\n",
       "      <th>2017-12-28</th>\n",
       "      <td>2687.54</td>\n",
       "      <td>324.74</td>\n",
       "    </tr>\n",
       "    <tr>\n",
       "      <th>2017-12-27</th>\n",
       "      <td>2682.62</td>\n",
       "      <td>320.25</td>\n",
       "    </tr>\n",
       "    <tr>\n",
       "      <th>2017-12-26</th>\n",
       "      <td>2680.50</td>\n",
       "      <td>318.89</td>\n",
       "    </tr>\n",
       "    <tr>\n",
       "      <th>2017-12-22</th>\n",
       "      <td>2683.34</td>\n",
       "      <td>321.21</td>\n",
       "    </tr>\n",
       "    <tr>\n",
       "      <th>...</th>\n",
       "      <td>...</td>\n",
       "      <td>...</td>\n",
       "    </tr>\n",
       "    <tr>\n",
       "      <th>2017-05-29</th>\n",
       "      <td>NaN</td>\n",
       "      <td>306.52</td>\n",
       "    </tr>\n",
       "    <tr>\n",
       "      <th>2017-04-14</th>\n",
       "      <td>NaN</td>\n",
       "      <td>277.31</td>\n",
       "    </tr>\n",
       "    <tr>\n",
       "      <th>2017-02-20</th>\n",
       "      <td>NaN</td>\n",
       "      <td>269.73</td>\n",
       "    </tr>\n",
       "    <tr>\n",
       "      <th>2017-01-16</th>\n",
       "      <td>NaN</td>\n",
       "      <td>266.15</td>\n",
       "    </tr>\n",
       "    <tr>\n",
       "      <th>2017-01-02</th>\n",
       "      <td>NaN</td>\n",
       "      <td>260.36</td>\n",
       "    </tr>\n",
       "  </tbody>\n",
       "</table>\n",
       "<p>259 rows × 2 columns</p>\n",
       "</div>"
      ],
      "text/plain": [
       "             S&P500  KOSPI200\n",
       "2017-12-29  2673.61       NaN\n",
       "2017-12-28  2687.54    324.74\n",
       "2017-12-27  2682.62    320.25\n",
       "2017-12-26  2680.50    318.89\n",
       "2017-12-22  2683.34    321.21\n",
       "...             ...       ...\n",
       "2017-05-29      NaN    306.52\n",
       "2017-04-14      NaN    277.31\n",
       "2017-02-20      NaN    269.73\n",
       "2017-01-16      NaN    266.15\n",
       "2017-01-02      NaN    260.36\n",
       "\n",
       "[259 rows x 2 columns]"
      ]
     },
     "execution_count": 73,
     "metadata": {},
     "output_type": "execute_result"
    }
   ],
   "source": [
    "import pandas as pd\n",
    "df = pd.DataFrame(tmp)\n",
    "df"
   ]
  },
  {
   "cell_type": "markdown",
   "id": "bad2789b-a073-4a1d-bc85-938a8b134547",
   "metadata": {},
   "source": [
    ">데이터가 NaN으로 보이는 이유는 2017년 1월 16일이 미국 증권시장 휴장일이 아닐까 추정된다.\n",
    "종종 다른 나라의 데이터를 비교하다 보면 나라마다 서로 공휴일이 달라서 데이터가 빠지는 경우가 많다. \n",
    "이러한 경우에는 날짜를 빼는 방법도 있는데 이 방법은 데이터의 흐름이 단절되기 때문에 데이터의 신뢰도에 악영향을 미친다."
   ]
  },
  {
   "cell_type": "markdown",
   "id": "cd3ff71f-3c15-409e-9526-7d6273cbf15a",
   "metadata": {},
   "source": [
    "> 금융에서는 매도 가격과 매수 가격이 맞아 떨어져서 거래가 체결되면 시세가 바뀌지만, 거래가 체결되기 전까지는 이전 체결 가격을 시세로 인정한다. 예를 들어서 위 표에서 1월 16일은 1월 15일 지수를 연장하면 된다. 하지만 만약에 1월 2일 에 2016년 12월 30일의 지수를 가져와야하는 상황에 데이터가 없을씨 계속 하루씩 더 당기는 노가다를 지속해야한다. 그러나 노가다를 계속 할 수는 없는 노릇이니 1월 3일 지수를 당겨오는 선택을 한다. "
   ]
  },
  {
   "cell_type": "markdown",
   "id": "dce962ea-4978-4700-bcf4-ac52522702de",
   "metadata": {},
   "source": [
    "### 이러한 빠진 데이터를 채우는 것을 수학에서는 **보간**이라고 한다. 금융 데이터 처리를 위해 사용하는 보간을 위한 방법은 DataFrame.fillna(method='ffill') 또는 DataFrame.fillna(method = 'bfill')이다. 여기서 ffill은 'forward fill'로 앞의 데이터로 뒤의 구멍을 채우는 뜻이고 bfill은 'backward fill'로 뒤의 데이터로 앞 구멍을 채우는 의미를 가지고 있다. "
   ]
  },
  {
   "cell_type": "code",
   "execution_count": 177,
   "id": "1465c308-f96f-472b-9523-609291db1602",
   "metadata": {},
   "outputs": [
    {
     "data": {
      "text/html": [
       "<div>\n",
       "<style scoped>\n",
       "    .dataframe tbody tr th:only-of-type {\n",
       "        vertical-align: middle;\n",
       "    }\n",
       "\n",
       "    .dataframe tbody tr th {\n",
       "        vertical-align: top;\n",
       "    }\n",
       "\n",
       "    .dataframe thead th {\n",
       "        text-align: right;\n",
       "    }\n",
       "</style>\n",
       "<table border=\"1\" class=\"dataframe\">\n",
       "  <thead>\n",
       "    <tr style=\"text-align: right;\">\n",
       "      <th></th>\n",
       "      <th>S&amp;P500</th>\n",
       "      <th>KOSPI200</th>\n",
       "    </tr>\n",
       "  </thead>\n",
       "  <tbody>\n",
       "    <tr>\n",
       "      <th>2008-01-02</th>\n",
       "      <td>1447.16</td>\n",
       "      <td>235.30</td>\n",
       "    </tr>\n",
       "    <tr>\n",
       "      <th>2008-01-03</th>\n",
       "      <td>1447.16</td>\n",
       "      <td>234.67</td>\n",
       "    </tr>\n",
       "    <tr>\n",
       "      <th>2008-01-04</th>\n",
       "      <td>1411.63</td>\n",
       "      <td>235.77</td>\n",
       "    </tr>\n",
       "    <tr>\n",
       "      <th>2008-01-07</th>\n",
       "      <td>1416.18</td>\n",
       "      <td>231.00</td>\n",
       "    </tr>\n",
       "    <tr>\n",
       "      <th>2008-01-08</th>\n",
       "      <td>1390.19</td>\n",
       "      <td>230.34</td>\n",
       "    </tr>\n",
       "    <tr>\n",
       "      <th>...</th>\n",
       "      <td>...</td>\n",
       "      <td>...</td>\n",
       "    </tr>\n",
       "    <tr>\n",
       "      <th>2023-12-22</th>\n",
       "      <td>4754.63</td>\n",
       "      <td>349.15</td>\n",
       "    </tr>\n",
       "    <tr>\n",
       "      <th>2023-12-26</th>\n",
       "      <td>4774.75</td>\n",
       "      <td>350.43</td>\n",
       "    </tr>\n",
       "    <tr>\n",
       "      <th>2023-12-27</th>\n",
       "      <td>4781.58</td>\n",
       "      <td>352.46</td>\n",
       "    </tr>\n",
       "    <tr>\n",
       "      <th>2023-12-28</th>\n",
       "      <td>4783.35</td>\n",
       "      <td>357.99</td>\n",
       "    </tr>\n",
       "    <tr>\n",
       "      <th>2023-12-29</th>\n",
       "      <td>4769.83</td>\n",
       "      <td>357.99</td>\n",
       "    </tr>\n",
       "  </tbody>\n",
       "</table>\n",
       "<p>4149 rows × 2 columns</p>\n",
       "</div>"
      ],
      "text/plain": [
       "             S&P500  KOSPI200\n",
       "2008-01-02  1447.16    235.30\n",
       "2008-01-03  1447.16    234.67\n",
       "2008-01-04  1411.63    235.77\n",
       "2008-01-07  1416.18    231.00\n",
       "2008-01-08  1390.19    230.34\n",
       "...             ...       ...\n",
       "2023-12-22  4754.63    349.15\n",
       "2023-12-26  4774.75    350.43\n",
       "2023-12-27  4781.58    352.46\n",
       "2023-12-28  4783.35    357.99\n",
       "2023-12-29  4769.83    357.99\n",
       "\n",
       "[4149 rows x 2 columns]"
      ]
     },
     "execution_count": 177,
     "metadata": {},
     "output_type": "execute_result"
    }
   ],
   "source": [
    "df = df.fillna(method='ffill')\n",
    "if df.isnull().values.any():\n",
    "    df = df.fillna(method='bfill')\n",
    "df.sort_index(inplace=True)\n",
    "df"
   ]
  },
  {
   "cell_type": "markdown",
   "id": "ab2ea57c-456b-4565-8921-ebd2db2dfb33",
   "metadata": {},
   "source": [
    ">이러한 방식으로 1월 2일에는 1월 3일의 데이터가, 1월 16일에는 1월 13일 데이터가 채워진 것을 볼 수 있다. "
   ]
  },
  {
   "cell_type": "markdown",
   "id": "2c3b2fcb-f43d-4382-b948-593d0bb7d7bc",
   "metadata": {},
   "source": [
    "### 데이터 처리후 필요한 전체 데이터 받기(pg.134)"
   ]
  },
  {
   "cell_type": "code",
   "execution_count": 121,
   "id": "a2cf50e5-1ca9-47fe-9596-58b769fa1937",
   "metadata": {},
   "outputs": [],
   "source": [
    "index_cd = 'KPI200'\n",
    "historical_prices = dict()\n",
    "kospi200 = historical_index_naver(index_cd, '2008-1-1','2023-12-31')"
   ]
  },
  {
   "cell_type": "code",
   "execution_count": 122,
   "id": "eeb10889-e9bb-41b8-a34a-a584b154b259",
   "metadata": {},
   "outputs": [],
   "source": [
    "index_cd = 'SPI@SPX'\n",
    "historical_prices = dict()\n",
    "sp500 = index_global(historical_prices, index_cd, '2008-1-1','2023-12-31')"
   ]
  },
  {
   "cell_type": "code",
   "execution_count": 123,
   "id": "3d68750c-bcbc-40c1-aa17-0047d64eb9fb",
   "metadata": {},
   "outputs": [],
   "source": [
    "tmp = {'S&P500' : sp500, 'KOSPI200' : kospi200}"
   ]
  },
  {
   "cell_type": "code",
   "execution_count": 125,
   "id": "d561db19-e1ec-4fdd-8874-3484349f9dff",
   "metadata": {},
   "outputs": [
    {
     "data": {
      "text/html": [
       "<div>\n",
       "<style scoped>\n",
       "    .dataframe tbody tr th:only-of-type {\n",
       "        vertical-align: middle;\n",
       "    }\n",
       "\n",
       "    .dataframe tbody tr th {\n",
       "        vertical-align: top;\n",
       "    }\n",
       "\n",
       "    .dataframe thead th {\n",
       "        text-align: right;\n",
       "    }\n",
       "</style>\n",
       "<table border=\"1\" class=\"dataframe\">\n",
       "  <thead>\n",
       "    <tr style=\"text-align: right;\">\n",
       "      <th></th>\n",
       "      <th>S&amp;P500</th>\n",
       "      <th>KOSPI200</th>\n",
       "    </tr>\n",
       "  </thead>\n",
       "  <tbody>\n",
       "    <tr>\n",
       "      <th>2008-01-02</th>\n",
       "      <td>1447.16</td>\n",
       "      <td>235.30</td>\n",
       "    </tr>\n",
       "    <tr>\n",
       "      <th>2008-01-03</th>\n",
       "      <td>1447.16</td>\n",
       "      <td>234.67</td>\n",
       "    </tr>\n",
       "    <tr>\n",
       "      <th>2008-01-04</th>\n",
       "      <td>1411.63</td>\n",
       "      <td>235.77</td>\n",
       "    </tr>\n",
       "    <tr>\n",
       "      <th>2008-01-07</th>\n",
       "      <td>1416.18</td>\n",
       "      <td>231.00</td>\n",
       "    </tr>\n",
       "    <tr>\n",
       "      <th>2008-01-08</th>\n",
       "      <td>1390.19</td>\n",
       "      <td>230.34</td>\n",
       "    </tr>\n",
       "    <tr>\n",
       "      <th>...</th>\n",
       "      <td>...</td>\n",
       "      <td>...</td>\n",
       "    </tr>\n",
       "    <tr>\n",
       "      <th>2023-12-22</th>\n",
       "      <td>4754.63</td>\n",
       "      <td>349.15</td>\n",
       "    </tr>\n",
       "    <tr>\n",
       "      <th>2023-12-26</th>\n",
       "      <td>4774.75</td>\n",
       "      <td>350.43</td>\n",
       "    </tr>\n",
       "    <tr>\n",
       "      <th>2023-12-27</th>\n",
       "      <td>4781.58</td>\n",
       "      <td>352.46</td>\n",
       "    </tr>\n",
       "    <tr>\n",
       "      <th>2023-12-28</th>\n",
       "      <td>4783.35</td>\n",
       "      <td>357.99</td>\n",
       "    </tr>\n",
       "    <tr>\n",
       "      <th>2023-12-29</th>\n",
       "      <td>4769.83</td>\n",
       "      <td>NaN</td>\n",
       "    </tr>\n",
       "  </tbody>\n",
       "</table>\n",
       "<p>4149 rows × 2 columns</p>\n",
       "</div>"
      ],
      "text/plain": [
       "             S&P500  KOSPI200\n",
       "2008-01-02  1447.16    235.30\n",
       "2008-01-03  1447.16    234.67\n",
       "2008-01-04  1411.63    235.77\n",
       "2008-01-07  1416.18    231.00\n",
       "2008-01-08  1390.19    230.34\n",
       "...             ...       ...\n",
       "2023-12-22  4754.63    349.15\n",
       "2023-12-26  4774.75    350.43\n",
       "2023-12-27  4781.58    352.46\n",
       "2023-12-28  4783.35    357.99\n",
       "2023-12-29  4769.83       NaN\n",
       "\n",
       "[4149 rows x 2 columns]"
      ]
     },
     "execution_count": 125,
     "metadata": {},
     "output_type": "execute_result"
    }
   ],
   "source": [
    "df = pd.DataFrame(tmp)\n",
    "df.sort_index(inplace=True)\n",
    "df"
   ]
  },
  {
   "cell_type": "code",
   "execution_count": 126,
   "id": "b05a65ee-20c2-4453-8ab2-523a05715c3d",
   "metadata": {},
   "outputs": [
    {
     "data": {
      "text/html": [
       "<div>\n",
       "<style scoped>\n",
       "    .dataframe tbody tr th:only-of-type {\n",
       "        vertical-align: middle;\n",
       "    }\n",
       "\n",
       "    .dataframe tbody tr th {\n",
       "        vertical-align: top;\n",
       "    }\n",
       "\n",
       "    .dataframe thead th {\n",
       "        text-align: right;\n",
       "    }\n",
       "</style>\n",
       "<table border=\"1\" class=\"dataframe\">\n",
       "  <thead>\n",
       "    <tr style=\"text-align: right;\">\n",
       "      <th></th>\n",
       "      <th>S&amp;P500</th>\n",
       "      <th>KOSPI200</th>\n",
       "    </tr>\n",
       "  </thead>\n",
       "  <tbody>\n",
       "    <tr>\n",
       "      <th>2008-01-02</th>\n",
       "      <td>1447.16</td>\n",
       "      <td>235.30</td>\n",
       "    </tr>\n",
       "    <tr>\n",
       "      <th>2008-01-03</th>\n",
       "      <td>1447.16</td>\n",
       "      <td>234.67</td>\n",
       "    </tr>\n",
       "    <tr>\n",
       "      <th>2008-01-04</th>\n",
       "      <td>1411.63</td>\n",
       "      <td>235.77</td>\n",
       "    </tr>\n",
       "    <tr>\n",
       "      <th>2008-01-07</th>\n",
       "      <td>1416.18</td>\n",
       "      <td>231.00</td>\n",
       "    </tr>\n",
       "    <tr>\n",
       "      <th>2008-01-08</th>\n",
       "      <td>1390.19</td>\n",
       "      <td>230.34</td>\n",
       "    </tr>\n",
       "    <tr>\n",
       "      <th>...</th>\n",
       "      <td>...</td>\n",
       "      <td>...</td>\n",
       "    </tr>\n",
       "    <tr>\n",
       "      <th>2023-12-22</th>\n",
       "      <td>4754.63</td>\n",
       "      <td>349.15</td>\n",
       "    </tr>\n",
       "    <tr>\n",
       "      <th>2023-12-26</th>\n",
       "      <td>4774.75</td>\n",
       "      <td>350.43</td>\n",
       "    </tr>\n",
       "    <tr>\n",
       "      <th>2023-12-27</th>\n",
       "      <td>4781.58</td>\n",
       "      <td>352.46</td>\n",
       "    </tr>\n",
       "    <tr>\n",
       "      <th>2023-12-28</th>\n",
       "      <td>4783.35</td>\n",
       "      <td>357.99</td>\n",
       "    </tr>\n",
       "    <tr>\n",
       "      <th>2023-12-29</th>\n",
       "      <td>4769.83</td>\n",
       "      <td>357.99</td>\n",
       "    </tr>\n",
       "  </tbody>\n",
       "</table>\n",
       "<p>4149 rows × 2 columns</p>\n",
       "</div>"
      ],
      "text/plain": [
       "             S&P500  KOSPI200\n",
       "2008-01-02  1447.16    235.30\n",
       "2008-01-03  1447.16    234.67\n",
       "2008-01-04  1411.63    235.77\n",
       "2008-01-07  1416.18    231.00\n",
       "2008-01-08  1390.19    230.34\n",
       "...             ...       ...\n",
       "2023-12-22  4754.63    349.15\n",
       "2023-12-26  4774.75    350.43\n",
       "2023-12-27  4781.58    352.46\n",
       "2023-12-28  4783.35    357.99\n",
       "2023-12-29  4769.83    357.99\n",
       "\n",
       "[4149 rows x 2 columns]"
      ]
     },
     "execution_count": 126,
     "metadata": {},
     "output_type": "execute_result"
    }
   ],
   "source": [
    "df = df.fillna(method='ffill')\n",
    "if df.isnull().values.any():\n",
    "    df = df.fillna(method='bfill')\n",
    "df"
   ]
  },
  {
   "cell_type": "code",
   "execution_count": 127,
   "id": "2826cbcd-636a-482f-9235-ef1756816599",
   "metadata": {},
   "outputs": [
    {
     "data": {
      "text/html": [
       "<div>\n",
       "<style scoped>\n",
       "    .dataframe tbody tr th:only-of-type {\n",
       "        vertical-align: middle;\n",
       "    }\n",
       "\n",
       "    .dataframe tbody tr th {\n",
       "        vertical-align: top;\n",
       "    }\n",
       "\n",
       "    .dataframe thead th {\n",
       "        text-align: right;\n",
       "    }\n",
       "</style>\n",
       "<table border=\"1\" class=\"dataframe\">\n",
       "  <thead>\n",
       "    <tr style=\"text-align: right;\">\n",
       "      <th></th>\n",
       "      <th>S&amp;P500</th>\n",
       "      <th>KOSPI200</th>\n",
       "    </tr>\n",
       "  </thead>\n",
       "  <tbody>\n",
       "    <tr>\n",
       "      <th>2008-01-02</th>\n",
       "      <td>1447.16</td>\n",
       "      <td>235.30</td>\n",
       "    </tr>\n",
       "    <tr>\n",
       "      <th>2008-01-03</th>\n",
       "      <td>1447.16</td>\n",
       "      <td>234.67</td>\n",
       "    </tr>\n",
       "    <tr>\n",
       "      <th>2008-01-04</th>\n",
       "      <td>1411.63</td>\n",
       "      <td>235.77</td>\n",
       "    </tr>\n",
       "    <tr>\n",
       "      <th>2008-01-07</th>\n",
       "      <td>1416.18</td>\n",
       "      <td>231.00</td>\n",
       "    </tr>\n",
       "    <tr>\n",
       "      <th>2008-01-08</th>\n",
       "      <td>1390.19</td>\n",
       "      <td>230.34</td>\n",
       "    </tr>\n",
       "  </tbody>\n",
       "</table>\n",
       "</div>"
      ],
      "text/plain": [
       "             S&P500  KOSPI200\n",
       "2008-01-02  1447.16    235.30\n",
       "2008-01-03  1447.16    234.67\n",
       "2008-01-04  1411.63    235.77\n",
       "2008-01-07  1416.18    231.00\n",
       "2008-01-08  1390.19    230.34"
      ]
     },
     "execution_count": 127,
     "metadata": {},
     "output_type": "execute_result"
    }
   ],
   "source": [
    "df.head()"
   ]
  },
  {
   "cell_type": "markdown",
   "id": "23fd66d1-448f-408c-ba00-4ca53a925e71",
   "metadata": {},
   "source": [
    "## 맷플립을 이용해 그래프 그리기"
   ]
  },
  {
   "cell_type": "code",
   "execution_count": 128,
   "id": "44350b54-33c8-4142-9f44-b8b47afa43f4",
   "metadata": {},
   "outputs": [],
   "source": [
    "import matplotlib.pyplot as plt\n",
    "%matplotlib inline  "
   ]
  },
  {
   "cell_type": "code",
   "execution_count": 129,
   "id": "7ac17977-d55c-4f96-996e-d0abe2e799af",
   "metadata": {},
   "outputs": [
    {
     "data": {
      "image/png": "[encoded data removed]",
      "text/plain": [
       "<Figure size 720x360 with 1 Axes>"
      ]
     },
     "metadata": {
      "needs_background": "light"
     },
     "output_type": "display_data"
    }
   ],
   "source": [
    "plt.figure(figsize=(10,5)) #크기 조절\n",
    "plt.plot(df['S&P500'],label='S&P500') #데이터 선택\n",
    "plt.plot(df['KOSPI200'],label='KOSPI200')\n",
    "plt.legend(loc=0) #범례 위치 지정\n",
    "plt.grid(True, color='0.7', linestyle=':', linewidth=1) #그리드 설정"
   ]
  },
  {
   "cell_type": "markdown",
   "id": "9a2fa5f5-9d3b-4581-bc07-c4fe4beae8b7",
   "metadata": {},
   "source": [
    ">이렇듯 S&P500와 KOSPI200을 그래프를 통해서 볼 수 있지만, KOSPI200의 움직임을 잘 볼 수 없기 때문에 지수화 작업을 해준다. \n"
   ]
  },
  {
   "cell_type": "code",
   "execution_count": 130,
   "id": "23c52d64-9a69-4564-8cf8-08315536bc5f",
   "metadata": {},
   "outputs": [
    {
     "data": {
      "text/plain": [
       "S&P500      1447.16\n",
       "KOSPI200     235.30\n",
       "Name: 2008-01-02, dtype: float64"
      ]
     },
     "execution_count": 130,
     "metadata": {},
     "output_type": "execute_result"
    }
   ],
   "source": [
    "df.iloc[0] #인덱스(위치)로 지정"
   ]
  },
  {
   "cell_type": "code",
   "execution_count": 131,
   "id": "21b8822e-0294-4094-a973-43849f0da5a1",
   "metadata": {},
   "outputs": [
    {
     "data": {
      "text/plain": [
       "S&P500      1447.16\n",
       "KOSPI200     235.30\n",
       "Name: 2008-01-02, dtype: float64"
      ]
     },
     "execution_count": 131,
     "metadata": {},
     "output_type": "execute_result"
    }
   ],
   "source": [
    "df.loc[dt.date(2008,1,2)]"
   ]
  },
  {
   "cell_type": "code",
   "execution_count": 132,
   "id": "eb25ba5d-25ec-41b9-bcba-9da826f17217",
   "metadata": {},
   "outputs": [
    {
     "data": {
      "image/png": "[encoded data removed]",
      "text/plain": [
       "<Figure size 720x360 with 1 Axes>"
      ]
     },
     "metadata": {
      "needs_background": "light"
     },
     "output_type": "display_data"
    }
   ],
   "source": [
    "plt.figure(figsize=(10, 5))\n",
    "plt.plot(df['S&P500'] / df['S&P500'].loc[dt.date(2008, 1, 2)] * 100, label='S&P500')\n",
    "plt.plot(df['KOSPI200'] / df['KOSPI200'].loc[dt.date(2008, 1, 2)] * 100, label='KOSPI200')\n",
    "plt.legend(loc=0)\n",
    "plt.grid(True, color='0.7', linestyle=':', linewidth=1)"
   ]
  },
  {
   "cell_type": "markdown",
   "id": "0ade83b9-0224-4ae3-b783-9395fba6ad43",
   "metadata": {},
   "source": [
    "> Kospi200의 움직임이 한눈에 들어온다. 이번에는 특정 날짜 2016년 1월 1일부터의 움직임만을 추려서 보기 위해서 데이터를 지수화 시커 df_ratio_2016년 1월 1일 부터의 움직임만을 추려서 그래프를 그려본다. "
   ]
  },
  {
   "cell_type": "code",
   "execution_count": 133,
   "id": "819a236a-c770-4e79-9c2d-15445972479e",
   "metadata": {},
   "outputs": [
    {
     "data": {
      "text/html": [
       "<div>\n",
       "<style scoped>\n",
       "    .dataframe tbody tr th:only-of-type {\n",
       "        vertical-align: middle;\n",
       "    }\n",
       "\n",
       "    .dataframe tbody tr th {\n",
       "        vertical-align: top;\n",
       "    }\n",
       "\n",
       "    .dataframe thead th {\n",
       "        text-align: right;\n",
       "    }\n",
       "</style>\n",
       "<table border=\"1\" class=\"dataframe\">\n",
       "  <thead>\n",
       "    <tr style=\"text-align: right;\">\n",
       "      <th></th>\n",
       "      <th>S&amp;P500</th>\n",
       "      <th>KOSPI200</th>\n",
       "    </tr>\n",
       "  </thead>\n",
       "  <tbody>\n",
       "    <tr>\n",
       "      <th>2016-01-04</th>\n",
       "      <td>100.000000</td>\n",
       "      <td>100.000000</td>\n",
       "    </tr>\n",
       "    <tr>\n",
       "      <th>2016-01-05</th>\n",
       "      <td>100.201226</td>\n",
       "      <td>100.639304</td>\n",
       "    </tr>\n",
       "    <tr>\n",
       "      <th>2016-01-06</th>\n",
       "      <td>98.887045</td>\n",
       "      <td>99.987214</td>\n",
       "    </tr>\n",
       "  </tbody>\n",
       "</table>\n",
       "</div>"
      ],
      "text/plain": [
       "                S&P500    KOSPI200\n",
       "2016-01-04  100.000000  100.000000\n",
       "2016-01-05  100.201226  100.639304\n",
       "2016-01-06   98.887045   99.987214"
      ]
     },
     "execution_count": 133,
     "metadata": {},
     "output_type": "execute_result"
    }
   ],
   "source": [
    "df_ratio_2016_now = df.loc[dt.date(2016,1,1):] / df.loc[dt.date(2016,1,4)]*100\n",
    "df_ratio_2016_now.head(3)"
   ]
  },
  {
   "cell_type": "code",
   "execution_count": 135,
   "id": "309324bd-f045-4638-9376-00b78ad895d9",
   "metadata": {},
   "outputs": [
    {
     "data": {
      "image/png": "[encoded data removed]",
      "text/plain": [
       "<Figure size 720x360 with 1 Axes>"
      ]
     },
     "metadata": {
      "needs_background": "light"
     },
     "output_type": "display_data"
    }
   ],
   "source": [
    "plt.figure(figsize=(10,5))\n",
    "plt.plot(df_ratio_2016_now['S&P500'],label='S&P500')\n",
    "plt.plot(df_ratio_2016_now['KOSPI200'],label='KOSPI200')\n",
    "plt.legend(loc=0)\n",
    "plt.grid(True, color='0.7',linestyle=':',linewidth=1)"
   ]
  },
  {
   "cell_type": "markdown",
   "id": "55445928-0af1-4939-8c11-6208f3ad9725",
   "metadata": {},
   "source": [
    "## 회귀분석"
   ]
  },
  {
   "cell_type": "markdown",
   "id": "4d8cda64-74b3-4f6a-a95e-a4781754253b",
   "metadata": {},
   "source": [
    "#### 회귀분석을 이용해서 두 지수의 상관관계를 분석하기 위해서 두 지수를 가지고 산포도(scattered plot)을 그려본다"
   ]
  },
  {
   "cell_type": "code",
   "execution_count": 138,
   "id": "973ed64a-1d57-45a2-be7f-e2ae2b8b6fb4",
   "metadata": {},
   "outputs": [
    {
     "data": {
      "text/html": [
       "<div>\n",
       "<style scoped>\n",
       "    .dataframe tbody tr th:only-of-type {\n",
       "        vertical-align: middle;\n",
       "    }\n",
       "\n",
       "    .dataframe tbody tr th {\n",
       "        vertical-align: top;\n",
       "    }\n",
       "\n",
       "    .dataframe thead th {\n",
       "        text-align: right;\n",
       "    }\n",
       "</style>\n",
       "<table border=\"1\" class=\"dataframe\">\n",
       "  <thead>\n",
       "    <tr style=\"text-align: right;\">\n",
       "      <th></th>\n",
       "      <th>S&amp;P500</th>\n",
       "      <th>KOSPI200</th>\n",
       "    </tr>\n",
       "  </thead>\n",
       "  <tbody>\n",
       "    <tr>\n",
       "      <th>2023-01-02</th>\n",
       "      <td>100.401659</td>\n",
       "      <td>100.072519</td>\n",
       "    </tr>\n",
       "    <tr>\n",
       "      <th>2023-01-03</th>\n",
       "      <td>100.000000</td>\n",
       "      <td>100.000000</td>\n",
       "    </tr>\n",
       "    <tr>\n",
       "      <th>2023-01-04</th>\n",
       "      <td>100.753895</td>\n",
       "      <td>102.210097</td>\n",
       "    </tr>\n",
       "  </tbody>\n",
       "</table>\n",
       "</div>"
      ],
      "text/plain": [
       "                S&P500    KOSPI200\n",
       "2023-01-02  100.401659  100.072519\n",
       "2023-01-03  100.000000  100.000000\n",
       "2023-01-04  100.753895  102.210097"
      ]
     },
     "execution_count": 138,
     "metadata": {},
     "output_type": "execute_result"
    }
   ],
   "source": [
    "#2023년 1월 1일부터 지수화 시켜서 상관관계를 알아본다\n",
    "df_ratio_2023_now = df.loc[dt.date(2023,1,1):]/df.loc[dt.date(2023,1, 3)]*100\n",
    "df_ratio_2023_now.head(3)"
   ]
  },
  {
   "cell_type": "code",
   "execution_count": 143,
   "id": "76b736ab-b62f-4eee-bd47-0dae961bb123",
   "metadata": {},
   "outputs": [
    {
     "data": {
      "text/plain": [
       "Text(0, 0.5, 'KOSPI200')"
      ]
     },
     "execution_count": 143,
     "metadata": {},
     "output_type": "execute_result"
    },
    {
     "data": {
      "image/png": "[encoded data removed]",
      "text/plain": [
       "<Figure size 720x360 with 1 Axes>"
      ]
     },
     "metadata": {
      "needs_background": "light"
     },
     "output_type": "display_data"
    }
   ],
   "source": [
    "plt.figure(figsize=(10,5))\n",
    "plt.scatter(df_ratio_2023_now['S&P500'], df_ratio_2023_now['KOSPI200'], marker='.')\n",
    "plt.grid(True, color='0.7',linestyle=':', linewidth=1)\n",
    "plt.xlabel('S&P500')\n",
    "plt.ylabel('KOSPI200')"
   ]
  },
  {
   "cell_type": "markdown",
   "id": "8f86ca52-dbe6-460d-88cb-f8533fe89fc2",
   "metadata": {},
   "source": [
    "### 회귀분석을 위해서 sklearn.linear_model 내의 LinearRegression 라이브러리를 사용한다.<br> 벡터화된 데이터 처리를 위해서 *넘파이*(Numpy)라는 모듈도 함께 사용하다. \n",
    "<hr>\n",
    "1. numpy와 LinearRegression 라이브러리를 호출한다.<br>\n",
    "2. S&P500 지수가 KOSPI200에 미피는 영향을 보기 위해서 x값인 독립변수(independent variable)에는 S&P500 지수를,<br> Y값인 종속변수에는 (dependent vvariable)에는 KOSPI200 지수를 넣는다. <br>\n",
    "3. LinearRegression 모듈은 n행 1열 벡터를 입력받기 때문에 지수 데이터를 (n,1) 모양으로 변경한다. Array.reshape(-1,1)로 백터 형태를 바꿀 수 있다. <br>\n",
    "4. LinearRegression의 fit 명령어로 회귀분석을 시행한다. <br>\n",
    "5. 회귀분석 결괏값인 기울기는 'Slope', Y절편은 'Intercept', R^2 값은 'R^2'라는 키에 저장한 딕셔너리를 반환한다. "
   ]
  },
  {
   "cell_type": "code",
   "execution_count": 142,
   "id": "403976de-4865-4625-a4c7-e8bb42adf4cb",
   "metadata": {},
   "outputs": [
    {
     "data": {
      "text/plain": [
       "{'Slope': 0.5652898127301442,\n",
       " 'Intercept': 50.362962632985855,\n",
       " 'R^2': 0.6655648939199486}"
      ]
     },
     "execution_count": 142,
     "metadata": {},
     "output_type": "execute_result"
    }
   ],
   "source": [
    "import numpy as np\n",
    "from sklearn.linear_model import LinearRegression\n",
    "\n",
    "x = df_ratio_2023_now['S&P500']\n",
    "y = df_ratio_2023_now['KOSPI200']\n",
    "\n",
    "#1개 칼럼 np.array로 변환\n",
    "independent_var = np.array(x).reshape(-1,1)\n",
    "dependent_var = np.array(y).reshape(-1,1)\n",
    "\n",
    "#Linear Regression\n",
    "regr = LinearRegression()\n",
    "regr.fit(independent_var,dependent_var)\n",
    "\n",
    "result = {'Slope':regr.coef_[0,0],'Intercept':regr.intercept_[0],'R^2':regr.score(independent_var, dependent_var)}\n",
    "result"
   ]
  },
  {
   "cell_type": "markdown",
   "id": "f665cfbc-d5d5-4c43-8510-bcf83441f95a",
   "metadata": {},
   "source": [
    "> 위의 결과를 보자면, 2023년 1월 1일의 지점으로 한 주가지수 KOSPI200와 S&P500의 상관관계 결정계수는 0.665으로 나왔다. <br>\n",
    "기울기: 0.565 y절편: 50.36 R^2: 0.665"
   ]
  },
  {
   "cell_type": "markdown",
   "id": "04b93d27-3372-4d2c-8c66-ab047f90d988",
   "metadata": {},
   "source": [
    "### 추세선을 그래프에 나타내기"
   ]
  },
  {
   "cell_type": "code",
   "execution_count": 176,
   "id": "d0700751-f9b7-40ee-8b6b-0a475d5f38b4",
   "metadata": {},
   "outputs": [
    {
     "data": {
      "text/plain": [
       "Text(0.5, 1.0, 'KOSPI200 and S&P500')"
      ]
     },
     "execution_count": 176,
     "metadata": {},
     "output_type": "execute_result"
    },
    {
     "data": {
      "image/png": "[encoded data removed]",
      "text/plain": [
       "<Figure size 360x360 with 1 Axes>"
      ]
     },
     "metadata": {
      "needs_background": "light"
     },
     "output_type": "display_data"
    }
   ],
   "source": [
    "plt.figure(figsize=(5,5))\n",
    "plt.scatter(independent_var, dependent_var, marker='.',color='skyblue')\n",
    "plt.plot(independent_var,regr.predict(independent_var),color='red',linewidth=3)\n",
    "plt.grid(True, color='0.7',linestyle=':',linewidth=1)\n",
    "plt.xlabel('S&P500')\n",
    "plt.ylabel('KOSPI200')\n",
    "font1 = {'family': 'serif',\n",
    "      'color':  'Black',\n",
    "      'weight': 'normal',\n",
    "      'size': 16}\n",
    "plt.text(115,113,'Y=0.563*X+50.36',fontdict=font1, rotation=30)\n",
    "plt.title('KOSPI200 and S&P500')"
   ]
  }
 ],
 "metadata": {
  "kernelspec": {
   "display_name": "Python 3 (ipykernel)",
   "language": "python",
   "name": "python3"
  },
  "language_info": {
   "codemirror_mode": {
    "name": "ipython",
    "version": 3
   },
   "file_extension": ".py",
   "mimetype": "text/x-python",
   "name": "python",
   "nbconvert_exporter": "python",
   "pygments_lexer": "ipython3",
   "version": "3.9.7"
  }
 },
 "nbformat": 4,
 "nbformat_minor": 5
}
