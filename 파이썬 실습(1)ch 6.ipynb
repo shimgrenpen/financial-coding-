{
 "cells": [
  {
   "cell_type": "code",
   "execution_count": 9,
   "id": "562f816c-d7a1-479c-bed6-dc368c7c2ee7",
   "metadata": {},
   "outputs": [],
   "source": [
    "#파이썬 실습 pg.89\n",
    "def f(x):\n",
    "    y=x+1\n",
    "    return y"
   ]
  },
  {
   "cell_type": "code",
   "execution_count": 5,
   "id": "ae5641ae-8294-4b49-8d71-deb4a6eb2b21",
   "metadata": {},
   "outputs": [
    {
     "data": {
      "text/plain": [
       "2"
      ]
     },
     "execution_count": 5,
     "metadata": {},
     "output_type": "execute_result"
    }
   ],
   "source": [
    "f(1)"
   ]
  },
  {
   "cell_type": "code",
   "execution_count": 11,
   "id": "5f382386-dcf6-41c7-849d-1044126cdea0",
   "metadata": {},
   "outputs": [
    {
     "data": {
      "text/plain": [
       "3"
      ]
     },
     "execution_count": 11,
     "metadata": {},
     "output_type": "execute_result"
    }
   ],
   "source": [
    "f(f(1))"
   ]
  },
  {
   "cell_type": "code",
   "execution_count": 13,
   "id": "a806d490-d1df-4407-a564-0d5d3b669028",
   "metadata": {},
   "outputs": [],
   "source": [
    "import bs4 #bs4라는 외부 모듈을 가져온다\n",
    "\n",
    "# urllib라는 라이브러리 내의 request 모듈에 있는 urlopen 함수를 가져온다\n",
    "from urllib.request import urlopen\n",
    "\n",
    "#pandas라는 보듈을 pd라는 이름으로 가져온다\n",
    "import pandas as pd"
   ]
  },
  {
   "cell_type": "code",
   "execution_count": 14,
   "id": "4b959c0c-6ff8-4a37-9364-cb961024df93",
   "metadata": {},
   "outputs": [],
   "source": [
    "#빅데이처의 시작 뷰티풀 수프 htttp:book.finterstellar.com/sample.html\n",
    "html_doc = \"\"\"\n",
    "<html><head><title>The Office</title></head>\n",
    "<body>\n",
    "<p class=\"title\"><b>The Office</b></p>\n",
    "<p class=\"story\">In my office, there are four officers,\n",
    "<a href=\"http://example.com/YW\" class=\"member\">YW</a>,\n",
    "<a href=\"http://example.com/JK\" class=\"member\">JK</a>,\n",
    "<a href=\"http://example.com/YJ\" class=\"member\">YJ</a> and\n",
    "<a href=\"http://example.com/KS\" class=\"member\">KS</a>\n",
    ".</p>\n",
    "<p class=\"story\">...</p>\n",
    "\"\"\""
   ]
  },
  {
   "cell_type": "code",
   "execution_count": 15,
   "id": "3e9d80d4-bba1-42d3-a156-7145c6898205",
   "metadata": {},
   "outputs": [],
   "source": [
    "from bs4 import BeautifulSoup"
   ]
  },
  {
   "cell_type": "code",
   "execution_count": 16,
   "id": "74c9576b-7c18-41be-bb90-c80f31ccbc31",
   "metadata": {},
   "outputs": [],
   "source": [
    "soup=BeautifulSoup(html_doc,'html.parser')\n",
    "#뷰티풀 수프 함수를 이용해 html_doc을 해석해서 soup에 저장"
   ]
  },
  {
   "cell_type": "code",
   "execution_count": 17,
   "id": "ed5fd747-8a03-442d-8f94-8c0d5a6dd29f",
   "metadata": {},
   "outputs": [
    {
     "name": "stdout",
     "output_type": "stream",
     "text": [
      "<html>\n",
      " <head>\n",
      "  <title>\n",
      "   The Office\n",
      "  </title>\n",
      " </head>\n",
      " <body>\n",
      "  <p class=\"title\">\n",
      "   <b>\n",
      "    The Office\n",
      "   </b>\n",
      "  </p>\n",
      "  <p class=\"story\">\n",
      "   In my office, there are four officers,\n",
      "   <a class=\"member\" href=\"http://example.com/YW\">\n",
      "    YW\n",
      "   </a>\n",
      "   ,\n",
      "   <a class=\"member\" href=\"http://example.com/JK\">\n",
      "    JK\n",
      "   </a>\n",
      "   ,\n",
      "   <a class=\"member\" href=\"http://example.com/YJ\">\n",
      "    YJ\n",
      "   </a>\n",
      "   and\n",
      "   <a class=\"member\" href=\"http://example.com/KS\">\n",
      "    KS\n",
      "   </a>\n",
      "   .\n",
      "  </p>\n",
      "  <p class=\"story\">\n",
      "   ...\n",
      "  </p>\n",
      " </body>\n",
      "</html>\n"
     ]
    }
   ],
   "source": [
    "print(soup.prettify())"
   ]
  },
  {
   "cell_type": "code",
   "execution_count": 21,
   "id": "f86786c2-b287-4e05-8362-4dbf6fdd0fe8",
   "metadata": {},
   "outputs": [
    {
     "data": {
      "text/plain": [
       "<title>The Office</title>"
      ]
     },
     "execution_count": 21,
     "metadata": {},
     "output_type": "execute_result"
    }
   ],
   "source": [
    "soup.title #title 태그를 통째로 가져옴"
   ]
  },
  {
   "cell_type": "code",
   "execution_count": 22,
   "id": "f874d211-d24f-45af-ba5b-c3fbe4553a65",
   "metadata": {},
   "outputs": [
    {
     "data": {
      "text/plain": [
       "'The Office'"
      ]
     },
     "execution_count": 22,
     "metadata": {},
     "output_type": "execute_result"
    }
   ],
   "source": [
    "soup.title.text #title 태그 내용을 추출"
   ]
  },
  {
   "cell_type": "code",
   "execution_count": 23,
   "id": "2856aa7b-c262-4129-8a8d-ac2f5b39b7f0",
   "metadata": {},
   "outputs": [
    {
     "data": {
      "text/plain": [
       "<a class=\"member\" href=\"http://example.com/YW\">YW</a>"
      ]
     },
     "execution_count": 23,
     "metadata": {},
     "output_type": "execute_result"
    }
   ],
   "source": [
    "soup.a #a 태그를 통째로 가져오지만 첫 번째 팀원만 가져온다"
   ]
  },
  {
   "cell_type": "code",
   "execution_count": 25,
   "id": "f7ccf3ea-307e-4e2d-b36f-14b4503389bf",
   "metadata": {},
   "outputs": [
    {
     "data": {
      "text/plain": [
       "[<a class=\"member\" href=\"http://example.com/YW\">YW</a>,\n",
       " <a class=\"member\" href=\"http://example.com/JK\">JK</a>,\n",
       " <a class=\"member\" href=\"http://example.com/YJ\">YJ</a>,\n",
       " <a class=\"member\" href=\"http://example.com/KS\">KS</a>]"
      ]
     },
     "execution_count": 25,
     "metadata": {},
     "output_type": "execute_result"
    }
   ],
   "source": [
    "soup.find_all('a') #a 태그를 모두 가져온다"
   ]
  },
  {
   "cell_type": "code",
   "execution_count": 26,
   "id": "6aa2f62d-60fd-41d4-9531-f793dcafd6c8",
   "metadata": {},
   "outputs": [
    {
     "data": {
      "text/plain": [
       "<a class=\"member\" href=\"http://example.com/YJ\">YJ</a>"
      ]
     },
     "execution_count": 26,
     "metadata": {},
     "output_type": "execute_result"
    }
   ],
   "source": [
    "soup.find_all('a')[2]"
   ]
  },
  {
   "cell_type": "code",
   "execution_count": 27,
   "id": "305465ce-82e8-4a53-a7ef-67e141529b2e",
   "metadata": {},
   "outputs": [
    {
     "name": "stdout",
     "output_type": "stream",
     "text": [
      "YW\n",
      "JK\n",
      "YJ\n",
      "KS\n"
     ]
    }
   ],
   "source": [
    "member=soup.find_all('a')\n",
    "for m in member:\n",
    "    print(m.text)"
   ]
  },
  {
   "cell_type": "code",
   "execution_count": null,
   "id": "8fc11c94-1ce3-40fe-9702-81859ef23b5f",
   "metadata": {},
   "outputs": [],
   "source": [
    "#pg.98까지의 내용을 담은 파이썬 코드이다. 뷰티풀 수프 라이브러리에 대한 자세한 정보: https://www.crummy.com/software/BeautifulSoup/bs4/doc/"
   ]
  }
 ],
 "metadata": {
  "kernelspec": {
   "display_name": "Python 3 (ipykernel)",
   "language": "python",
   "name": "python3"
  },
  "language_info": {
   "codemirror_mode": {
    "name": "ipython",
    "version": 3
   },
   "file_extension": ".py",
   "mimetype": "text/x-python",
   "name": "python",
   "nbconvert_exporter": "python",
   "pygments_lexer": "ipython3",
   "version": "3.9.7"
  }
 },
 "nbformat": 4,
 "nbformat_minor": 5
}
